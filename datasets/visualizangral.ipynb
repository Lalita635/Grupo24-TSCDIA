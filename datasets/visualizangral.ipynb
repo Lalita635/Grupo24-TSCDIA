{
 "cells": [
  {
   "cell_type": "markdown",
   "metadata": {},
   "source": [
    "## Visualizacion de DataSets desde URL de GitHub"
   ]
  },
  {
   "cell_type": "code",
   "execution_count": 17,
   "metadata": {},
   "outputs": [],
   "source": [
    "import pandas as pd\n",
    "import matplotlib.pyplot as plt\n",
    "import seaborn as sns\n",
    "import numpy as np"
   ]
  },
  {
   "cell_type": "code",
   "execution_count": 3,
   "metadata": {},
   "outputs": [
    {
     "name": "stdout",
     "output_type": "stream",
     "text": [
      "Index(['id', 'nemo', 'descipcion', 'agrupacion', 'tipo_agente',\n",
      "       'fecha_proceso', 'lote_id_log'],\n",
      "      dtype='object')\n",
      "<class 'pandas.core.frame.DataFrame'>\n",
      "RangeIndex: 10080 entries, 0 to 10079\n",
      "Data columns (total 7 columns):\n",
      " #   Column         Non-Null Count  Dtype \n",
      "---  ------         --------------  ----- \n",
      " 0   id             10080 non-null  int64 \n",
      " 1   nemo           10080 non-null  object\n",
      " 2   descipcion     10080 non-null  object\n",
      " 3   agrupacion     9803 non-null   object\n",
      " 4   tipo_agente    10080 non-null  object\n",
      " 5   fecha_proceso  10080 non-null  object\n",
      " 6   lote_id_log    10080 non-null  int64 \n",
      "dtypes: int64(2), object(5)\n",
      "memory usage: 551.4+ KB\n"
     ]
    }
   ],
   "source": [
    "'''DATASET 1\n",
    "Agentes del MEM -\n",
    "Agentes del Mercado Eléctrico Mayorista'''\n",
    "\n",
    "\n",
    "url1 = 'https://raw.githubusercontent.com/gagabriela2787/PracticaProfISPC/main/dataset/agentes-mem.csv'\n",
    "\n",
    "\n",
    "\n",
    "df1 = pd.read_csv(url1)\n",
    "\n",
    "\n",
    "df1.head()\n",
    "\n",
    "\n",
    "df1.shape\n",
    "\n",
    "\n",
    "print(df1.columns)\n",
    "\n",
    "\n",
    "df1.describe()\n",
    "\n",
    "\n",
    "df1.info()\n",
    "\n",
    "\n"
   ]
  },
  {
   "cell_type": "code",
   "execution_count": 5,
   "metadata": {},
   "outputs": [
    {
     "name": "stdout",
     "output_type": "stream",
     "text": [
      "Index(['id', 'anio', 'mes', 'balance', 'tipo', 'energia_mwh', 'fecha_proceso',\n",
      "       'lote_id_log', 'indice_tiempo'],\n",
      "      dtype='object')\n",
      "<class 'pandas.core.frame.DataFrame'>\n",
      "RangeIndex: 380 entries, 0 to 379\n",
      "Data columns (total 9 columns):\n",
      " #   Column         Non-Null Count  Dtype  \n",
      "---  ------         --------------  -----  \n",
      " 0   id             380 non-null    int64  \n",
      " 1   anio           380 non-null    int64  \n",
      " 2   mes            380 non-null    int64  \n",
      " 3   balance        380 non-null    object \n",
      " 4   tipo           380 non-null    object \n",
      " 5   energia_mwh    380 non-null    float64\n",
      " 6   fecha_proceso  380 non-null    object \n",
      " 7   lote_id_log    380 non-null    int64  \n",
      " 8   indice_tiempo  380 non-null    object \n",
      "dtypes: float64(1), int64(4), object(4)\n",
      "memory usage: 26.8+ KB\n"
     ]
    }
   ],
   "source": [
    "\n",
    "\n",
    "'''DATASET 2\n",
    "Balance\n",
    "Balance de Energía del Mercado Eléctrico Mayorista.'''\n",
    "\n",
    "url2 = 'https://raw.githubusercontent.com/gagabriela2787/PracticaProfISPC/main/dataset/balance.csv'\n",
    "\n",
    "\n",
    "\n",
    "df2 = pd.read_csv(url2)\n",
    "\n",
    "\n",
    "df2.head()\n",
    "\n",
    "\n",
    "df2 = pd.read_csv(url2)\n",
    "\n",
    "\n",
    "df2.shape\n",
    "\n",
    "\n",
    "print(df2.columns)\n",
    "\n",
    "\n",
    "df2.describe()\n",
    "\n",
    "\n",
    "df2.info()\n",
    "\n",
    "\n",
    "\n",
    "\n",
    "\n",
    "\n",
    "\n",
    "\n"
   ]
  },
  {
   "cell_type": "code",
   "execution_count": 6,
   "metadata": {},
   "outputs": [
    {
     "name": "stdout",
     "output_type": "stream",
     "text": [
      "Index(['id', 'anio', 'mes', 'maquina', 'central', 'agente',\n",
      "       'agente_descripcion', 'tipo_maquina', 'fuente_generacion', 'tecnologia',\n",
      "       'combustible', 'consumo', 'fecha_proceso', 'lote_id_log',\n",
      "       'indice_tiempo'],\n",
      "      dtype='object')\n",
      "<class 'pandas.core.frame.DataFrame'>\n",
      "RangeIndex: 13574 entries, 0 to 13573\n",
      "Data columns (total 15 columns):\n",
      " #   Column              Non-Null Count  Dtype  \n",
      "---  ------              --------------  -----  \n",
      " 0   id                  13574 non-null  int64  \n",
      " 1   anio                13574 non-null  int64  \n",
      " 2   mes                 13574 non-null  int64  \n",
      " 3   maquina             13574 non-null  object \n",
      " 4   central             13574 non-null  object \n",
      " 5   agente              13574 non-null  object \n",
      " 6   agente_descripcion  13574 non-null  object \n",
      " 7   tipo_maquina        13574 non-null  object \n",
      " 8   fuente_generacion   13574 non-null  object \n",
      " 9   tecnologia          13574 non-null  object \n",
      " 10  combustible         13574 non-null  object \n",
      " 11  consumo             13574 non-null  float64\n",
      " 12  fecha_proceso       13574 non-null  object \n",
      " 13  lote_id_log         13574 non-null  int64  \n",
      " 14  indice_tiempo       13574 non-null  object \n",
      "dtypes: float64(1), int64(4), object(10)\n",
      "memory usage: 1.6+ MB\n"
     ]
    }
   ],
   "source": [
    "'''DATASET 3\n",
    "Consumo de Combustibles\n",
    "Consumo de combustibles por tipo de máquina y tipo de tecnología. Unidad: GAS NATURAL [Dam3] - FUEL OIL [Ton] - GAS OIL [M3] - CARBÓN MINERAL [Ton] - BIODIESEL [Ton]'''\n",
    "\n",
    "url3 = 'https://raw.githubusercontent.com/gagabriela2787/PracticaProfISPC/main/dataset/combustibles.csv'\n",
    "\n",
    "df3 = pd.read_csv(url3)\n",
    "\n",
    "\n",
    "df3.head()\n",
    "\n",
    "df3.shape\n",
    "\n",
    "\n",
    "print(df3.columns)\n",
    "\n",
    "\n",
    "df3.describe()\n",
    "\n",
    "\n",
    "df3.info()"
   ]
  },
  {
   "cell_type": "code",
   "execution_count": 9,
   "metadata": {},
   "outputs": [
    {
     "name": "stdout",
     "output_type": "stream",
     "text": [
      "Index(['id', 'mes', 'central', 'agente', 'descripcion',\n",
      "       'tecnologia_descripcion', 'tecnologia', 'factor_disp_tec_porcentaje',\n",
      "       'fecha_proceso', 'lote_id_log', 'indice_tiempo'],\n",
      "      dtype='object')\n",
      "<class 'pandas.core.frame.DataFrame'>\n",
      "RangeIndex: 8103 entries, 0 to 8102\n",
      "Data columns (total 11 columns):\n",
      " #   Column                      Non-Null Count  Dtype  \n",
      "---  ------                      --------------  -----  \n",
      " 0   id                          8103 non-null   int64  \n",
      " 1   mes                         8103 non-null   int64  \n",
      " 2   central                     8103 non-null   object \n",
      " 3   agente                      8103 non-null   object \n",
      " 4   descripcion                 8103 non-null   object \n",
      " 5   tecnologia_descripcion      8103 non-null   object \n",
      " 6   tecnologia                  8103 non-null   object \n",
      " 7   factor_disp_tec_porcentaje  8103 non-null   float64\n",
      " 8   fecha_proceso               8103 non-null   object \n",
      " 9   lote_id_log                 8103 non-null   int64  \n",
      " 10  indice_tiempo               8103 non-null   object \n",
      "dtypes: float64(1), int64(3), object(7)\n",
      "memory usage: 696.5+ KB\n"
     ]
    }
   ],
   "source": [
    "'''Disponibilidad por central\n",
    "Porcentaje de disponibilidad por central'''\n",
    "\n",
    "url4 = 'https://raw.githubusercontent.com/gagabriela2787/PracticaProfISPC/main/dataset/disponibilidad-por-central.csv'\n",
    "\n",
    "df4 = pd.read_csv(url4)\n",
    "\n",
    "\n",
    "df4.head()\n",
    "\n",
    "df4.shape\n",
    "\n",
    "\n",
    "print(df4.columns)\n",
    "\n",
    "\n",
    "df4.describe()\n",
    "\n",
    "\n",
    "df4.info()\n"
   ]
  },
  {
   "cell_type": "code",
   "execution_count": 8,
   "metadata": {},
   "outputs": [
    {
     "name": "stdout",
     "output_type": "stream",
     "text": [
      "Index(['id', 'anio', 'mes', 'pais', 'tipo', 'energia_mwh', 'fecha_proceso',\n",
      "       'lote_id_log', 'indice_tiempo'],\n",
      "      dtype='object')\n",
      "<class 'pandas.core.frame.DataFrame'>\n",
      "RangeIndex: 304 entries, 0 to 303\n",
      "Data columns (total 9 columns):\n",
      " #   Column         Non-Null Count  Dtype  \n",
      "---  ------         --------------  -----  \n",
      " 0   id             304 non-null    int64  \n",
      " 1   anio           304 non-null    int64  \n",
      " 2   mes            304 non-null    int64  \n",
      " 3   pais           304 non-null    object \n",
      " 4   tipo           304 non-null    object \n",
      " 5   energia_mwh    304 non-null    float64\n",
      " 6   fecha_proceso  304 non-null    object \n",
      " 7   lote_id_log    304 non-null    int64  \n",
      " 8   indice_tiempo  304 non-null    object \n",
      "dtypes: float64(1), int64(4), object(4)\n",
      "memory usage: 21.5+ KB\n"
     ]
    }
   ],
   "source": [
    "'''DATASET 5\n",
    "\n",
    "Importaciones y Exportaciones'''\n",
    "\n",
    "\n",
    "\n",
    "url5 = 'https://raw.githubusercontent.com/gagabriela2787/PracticaProfISPC/main/dataset/importaciones-y-exportaciones.csv'\n",
    "\n",
    "df5 = pd.read_csv(url5)\n",
    "\n",
    "\n",
    "df5.head()\n",
    "\n",
    "df5.shape\n",
    "\n",
    "\n",
    "print(df5.columns)\n",
    "\n",
    "\n",
    "df5.describe()\n",
    "\n",
    "\n",
    "df5.info()"
   ]
  },
  {
   "cell_type": "markdown",
   "metadata": {},
   "source": [
    "### Visualizacion general de DataSet desde PC"
   ]
  },
  {
   "cell_type": "code",
   "execution_count": null,
   "metadata": {},
   "outputs": [],
   "source": [
    "\n",
    "\n",
    "#demanda historica 18 MB\n",
    "df6 = pd.read_csv('C:\\\\Users\\\\User\\\\GABRIELA CACERES\\\\IT\\\\MI VSC\\\\energia\\\\Grupo24-TSCDIA\\\\datasets\\\\demanda-histrica.csv')\n",
    "df6.head()\n",
    "df6.shape\n",
    "print(df6.columns)\n",
    "df6.describe()\n",
    "df6.info()\n",
    "\n"
   ]
  },
  {
   "cell_type": "code",
   "execution_count": 18,
   "metadata": {},
   "outputs": [
    {
     "ename": "SyntaxError",
     "evalue": "(unicode error) 'unicodeescape' codec can't decode bytes in position 9-10: truncated \\UXXXXXXXX escape (659841727.py, line 2)",
     "output_type": "error",
     "traceback": [
      "\u001b[1;36m  Cell \u001b[1;32mIn[18], line 2\u001b[1;36m\u001b[0m\n\u001b[1;33m    df7 = pd.read_csv('C:\\\\Users\\User\\\\GABRIELA CACERES\\\\IT\\\\MI VSC\\\\energia\\\\Grupo24-TSCDIA\\\\datasets\\\\demanda-ltimos-aos.csv')\u001b[0m\n\u001b[1;37m                                                                                                                               ^\u001b[0m\n\u001b[1;31mSyntaxError\u001b[0m\u001b[1;31m:\u001b[0m (unicode error) 'unicodeescape' codec can't decode bytes in position 9-10: truncated \\UXXXXXXXX escape\n"
     ]
    }
   ],
   "source": [
    "#demanda ultimos años 7MB\n",
    "df7 = pd.read_csv('C:\\\\Users\\User\\\\GABRIELA CACERES\\\\IT\\\\MI VSC\\\\energia\\\\Grupo24-TSCDIA\\\\datasets\\\\demanda-ltimos-aos.csv')\n",
    "df7.head()\n",
    "df7.shape\n",
    "print(df7.columns)\n",
    "df7.describe()\n",
    "df7.info()\n"
   ]
  },
  {
   "cell_type": "code",
   "execution_count": 20,
   "metadata": {},
   "outputs": [
    {
     "name": "stdout",
     "output_type": "stream",
     "text": [
      "Index(['id', 'anio', 'mes', 'agente_nemo', 'agente_descripcion', 'tipo_agente',\n",
      "       'region', 'provincia', 'categoria_area', 'categoria_demanda', 'tarifa',\n",
      "       'categoria_tarifa', 'demanda_MWh', 'fecha_proceso', 'lote_id_log',\n",
      "       'indice_tiempo'],\n",
      "      dtype='object')\n",
      "<class 'pandas.core.frame.DataFrame'>\n",
      "RangeIndex: 40388 entries, 0 to 40387\n",
      "Data columns (total 16 columns):\n",
      " #   Column              Non-Null Count  Dtype  \n",
      "---  ------              --------------  -----  \n",
      " 0   id                  40388 non-null  int64  \n",
      " 1   anio                40388 non-null  int64  \n",
      " 2   mes                 40388 non-null  int64  \n",
      " 3   agente_nemo         40388 non-null  object \n",
      " 4   agente_descripcion  40388 non-null  object \n",
      " 5   tipo_agente         40388 non-null  object \n",
      " 6   region              40388 non-null  object \n",
      " 7   provincia           40388 non-null  object \n",
      " 8   categoria_area      40388 non-null  object \n",
      " 9   categoria_demanda   40388 non-null  object \n",
      " 10  tarifa              40388 non-null  object \n",
      " 11  categoria_tarifa    40388 non-null  object \n",
      " 12  demanda_MWh         40388 non-null  float64\n",
      " 13  fecha_proceso       40388 non-null  object \n",
      " 14  lote_id_log         40388 non-null  int64  \n",
      " 15  indice_tiempo       40388 non-null  object \n",
      "dtypes: float64(1), int64(4), object(11)\n",
      "memory usage: 4.9+ MB\n"
     ]
    }
   ],
   "source": [
    "#generacion historica 11 MB\n",
    "df8 = pd.read_csv('C:\\\\Users\\\\User\\\\GABRIELA CACERES\\\\IT\\\\MI VSC\\\\energia\\\\Grupo24-TSCDIA\\\\datasets\\\\demanda-ltimos-aos.csv')\n",
    "df8.head()\n",
    "df8.shape\n",
    "print(df8.columns)\n",
    "df8.describe()\n",
    "df8.info()"
   ]
  },
  {
   "cell_type": "code",
   "execution_count": null,
   "metadata": {},
   "outputs": [],
   "source": [
    "#generacion ultimos años 3.6 MB\n",
    "df9 = pd.read_csv('C:\\\\Users\\\\User\\\\Downloads\\\\grupoISPC\\\\generacin-ltimos-aos.csv')\n",
    "df9.head()\n",
    "df9.shape\n",
    "print(df9.columns)\n",
    "df9.describe()\n",
    "df9.info()"
   ]
  },
  {
   "cell_type": "code",
   "execution_count": 21,
   "metadata": {},
   "outputs": [
    {
     "name": "stdout",
     "output_type": "stream",
     "text": [
      "Index(['id', 'periodo', 'central', 'agente', 'agente_descripcion', 'region',\n",
      "       'categoria_region', 'tipo_maquina', 'fuente_generacion', 'tecnologia',\n",
      "       'potencia_instalada_mw', 'fecha_proceso', 'lote_id_log', 'mes',\n",
      "       'indice_tiempo', 'anio'],\n",
      "      dtype='object')\n",
      "<class 'pandas.core.frame.DataFrame'>\n",
      "RangeIndex: 15793 entries, 0 to 15792\n",
      "Data columns (total 16 columns):\n",
      " #   Column                 Non-Null Count  Dtype  \n",
      "---  ------                 --------------  -----  \n",
      " 0   id                     15793 non-null  int64  \n",
      " 1   periodo                15793 non-null  object \n",
      " 2   central                15793 non-null  object \n",
      " 3   agente                 15789 non-null  object \n",
      " 4   agente_descripcion     15789 non-null  object \n",
      " 5   region                 15793 non-null  object \n",
      " 6   categoria_region       15793 non-null  object \n",
      " 7   tipo_maquina           15793 non-null  object \n",
      " 8   fuente_generacion      15793 non-null  object \n",
      " 9   tecnologia             15793 non-null  object \n",
      " 10  potencia_instalada_mw  15793 non-null  float64\n",
      " 11  fecha_proceso          15793 non-null  object \n",
      " 12  lote_id_log            15793 non-null  int64  \n",
      " 13  mes                    15793 non-null  int64  \n",
      " 14  indice_tiempo          15793 non-null  object \n",
      " 15  anio                   15793 non-null  int64  \n",
      "dtypes: float64(1), int64(4), object(11)\n",
      "memory usage: 1.9+ MB\n"
     ]
    }
   ],
   "source": [
    "#potencia instalada 2.44 MB\n",
    "df10 = pd.read_csv('C:\\\\Users\\\\User\\\\GABRIELA CACERES\\\\IT\\MI VSC\\\\energia\\\\Grupo24-TSCDIA\\\\datasets\\\\potencia-instalada.csv')\n",
    "df10.head()\n",
    "df10.shape\n",
    "print(df10.columns)\n",
    "df10.describe()\n",
    "df10.info()"
   ]
  }
 ],
 "metadata": {
  "kernelspec": {
   "display_name": "Python 3",
   "language": "python",
   "name": "python3"
  },
  "language_info": {
   "codemirror_mode": {
    "name": "ipython",
    "version": 3
   },
   "file_extension": ".py",
   "mimetype": "text/x-python",
   "name": "python",
   "nbconvert_exporter": "python",
   "pygments_lexer": "ipython3",
   "version": "3.10.11"
  }
 },
 "nbformat": 4,
 "nbformat_minor": 2
}
