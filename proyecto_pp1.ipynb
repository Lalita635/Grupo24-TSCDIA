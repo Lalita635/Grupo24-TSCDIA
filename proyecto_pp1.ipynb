{
 "cells": [
  {
   "cell_type": "markdown",
   "id": "b51b457c",
   "metadata": {},
   "source": [
    "---\n",
    "### <center> Carga de Datos"
   ]
  },
  {
   "cell_type": "code",
   "execution_count": 16,
   "id": "19de6964",
   "metadata": {},
   "outputs": [],
   "source": [
    "import pandas as pd\n",
    "import matplotlib.pyplot as plt"
   ]
  },
  {
   "cell_type": "code",
   "execution_count": 2,
   "id": "021e9f06",
   "metadata": {},
   "outputs": [
    {
     "data": {
      "text/html": [
       "<div>\n",
       "<style scoped>\n",
       "    .dataframe tbody tr th:only-of-type {\n",
       "        vertical-align: middle;\n",
       "    }\n",
       "\n",
       "    .dataframe tbody tr th {\n",
       "        vertical-align: top;\n",
       "    }\n",
       "\n",
       "    .dataframe thead th {\n",
       "        text-align: right;\n",
       "    }\n",
       "</style>\n",
       "<table border=\"1\" class=\"dataframe\">\n",
       "  <thead>\n",
       "    <tr style=\"text-align: right;\">\n",
       "      <th></th>\n",
       "      <th>anio</th>\n",
       "      <th>mes</th>\n",
       "      <th>maquina</th>\n",
       "      <th>central</th>\n",
       "      <th>agente</th>\n",
       "      <th>agente_descripcion</th>\n",
       "      <th>region</th>\n",
       "      <th>pais</th>\n",
       "      <th>tipo_maquina</th>\n",
       "      <th>fuente_generacion</th>\n",
       "      <th>tecnologia</th>\n",
       "      <th>categoria_hidraulica</th>\n",
       "      <th>categoria_region</th>\n",
       "      <th>generacion_neta_MWh</th>\n",
       "      <th>indice_tiempo</th>\n",
       "    </tr>\n",
       "  </thead>\n",
       "  <tbody>\n",
       "    <tr>\n",
       "      <th>0</th>\n",
       "      <td>2012</td>\n",
       "      <td>1</td>\n",
       "      <td>3ARRDI01</td>\n",
       "      <td>3ARR</td>\n",
       "      <td>QUIL3A3A</td>\n",
       "      <td>QUILMES - PLANTA TRES ARROYOS</td>\n",
       "      <td>BUENOS AIRES</td>\n",
       "      <td>Argentina</td>\n",
       "      <td>MOTOR DIESEL</td>\n",
       "      <td>Térmica</td>\n",
       "      <td>DI</td>\n",
       "      <td>NaN</td>\n",
       "      <td>Gba - Litoral - Buenos Aires</td>\n",
       "      <td>0.000</td>\n",
       "      <td>2012-01</td>\n",
       "    </tr>\n",
       "    <tr>\n",
       "      <th>1</th>\n",
       "      <td>2012</td>\n",
       "      <td>1</td>\n",
       "      <td>ACAJTG01</td>\n",
       "      <td>CAPE</td>\n",
       "      <td>CAPEX-QA</td>\n",
       "      <td>CAPEX S.A. AUTOGENERADOR</td>\n",
       "      <td>COMAHUE</td>\n",
       "      <td>Argentina</td>\n",
       "      <td>TURBO GAS</td>\n",
       "      <td>Térmica</td>\n",
       "      <td>CC</td>\n",
       "      <td>NaN</td>\n",
       "      <td>Comahue</td>\n",
       "      <td>21868.984</td>\n",
       "      <td>2012-01</td>\n",
       "    </tr>\n",
       "    <tr>\n",
       "      <th>2</th>\n",
       "      <td>2012</td>\n",
       "      <td>1</td>\n",
       "      <td>ACAJTG02</td>\n",
       "      <td>ACAJ</td>\n",
       "      <td>CAPEXSAG</td>\n",
       "      <td>C.T. AGUA DEL CAJON</td>\n",
       "      <td>COMAHUE</td>\n",
       "      <td>Argentina</td>\n",
       "      <td>TURBO GAS</td>\n",
       "      <td>Térmica</td>\n",
       "      <td>CC</td>\n",
       "      <td>NaN</td>\n",
       "      <td>Comahue</td>\n",
       "      <td>24144.517</td>\n",
       "      <td>2012-01</td>\n",
       "    </tr>\n",
       "    <tr>\n",
       "      <th>3</th>\n",
       "      <td>2012</td>\n",
       "      <td>1</td>\n",
       "      <td>ACAJTG03</td>\n",
       "      <td>ACAJ</td>\n",
       "      <td>CAPEXSAG</td>\n",
       "      <td>C.T. AGUA DEL CAJON</td>\n",
       "      <td>COMAHUE</td>\n",
       "      <td>Argentina</td>\n",
       "      <td>TURBO GAS</td>\n",
       "      <td>Térmica</td>\n",
       "      <td>CC</td>\n",
       "      <td>NaN</td>\n",
       "      <td>Comahue</td>\n",
       "      <td>24259.713</td>\n",
       "      <td>2012-01</td>\n",
       "    </tr>\n",
       "    <tr>\n",
       "      <th>4</th>\n",
       "      <td>2012</td>\n",
       "      <td>1</td>\n",
       "      <td>ACAJTG04</td>\n",
       "      <td>ACAJ</td>\n",
       "      <td>CAPEXSAG</td>\n",
       "      <td>C.T. AGUA DEL CAJON</td>\n",
       "      <td>COMAHUE</td>\n",
       "      <td>Argentina</td>\n",
       "      <td>TURBO GAS</td>\n",
       "      <td>Térmica</td>\n",
       "      <td>CC</td>\n",
       "      <td>NaN</td>\n",
       "      <td>Comahue</td>\n",
       "      <td>26832.135</td>\n",
       "      <td>2012-01</td>\n",
       "    </tr>\n",
       "  </tbody>\n",
       "</table>\n",
       "</div>"
      ],
      "text/plain": [
       "   anio  mes   maquina central    agente             agente_descripcion  \\\n",
       "0  2012    1  3ARRDI01    3ARR  QUIL3A3A  QUILMES - PLANTA TRES ARROYOS   \n",
       "1  2012    1  ACAJTG01    CAPE  CAPEX-QA       CAPEX S.A. AUTOGENERADOR   \n",
       "2  2012    1  ACAJTG02    ACAJ  CAPEXSAG            C.T. AGUA DEL CAJON   \n",
       "3  2012    1  ACAJTG03    ACAJ  CAPEXSAG            C.T. AGUA DEL CAJON   \n",
       "4  2012    1  ACAJTG04    ACAJ  CAPEXSAG            C.T. AGUA DEL CAJON   \n",
       "\n",
       "         region       pais  tipo_maquina fuente_generacion tecnologia  \\\n",
       "0  BUENOS AIRES  Argentina  MOTOR DIESEL           Térmica         DI   \n",
       "1       COMAHUE  Argentina     TURBO GAS           Térmica         CC   \n",
       "2       COMAHUE  Argentina     TURBO GAS           Térmica         CC   \n",
       "3       COMAHUE  Argentina     TURBO GAS           Térmica         CC   \n",
       "4       COMAHUE  Argentina     TURBO GAS           Térmica         CC   \n",
       "\n",
       "  categoria_hidraulica              categoria_region  generacion_neta_MWh  \\\n",
       "0                  NaN  Gba - Litoral - Buenos Aires                0.000   \n",
       "1                  NaN                       Comahue            21868.984   \n",
       "2                  NaN                       Comahue            24144.517   \n",
       "3                  NaN                       Comahue            24259.713   \n",
       "4                  NaN                       Comahue            26832.135   \n",
       "\n",
       "  indice_tiempo  \n",
       "0       2012-01  \n",
       "1       2012-01  \n",
       "2       2012-01  \n",
       "3       2012-01  \n",
       "4       2012-01  "
      ]
     },
     "execution_count": 2,
     "metadata": {},
     "output_type": "execute_result"
    }
   ],
   "source": [
    "# Carga y visualización parcial de Datos:\n",
    "df = pd.read_csv('datasets/generacin-histrica.csv')\n",
    "df.head(5)"
   ]
  },
  {
   "cell_type": "markdown",
   "id": "7b54d95a",
   "metadata": {},
   "source": [
    "---\n",
    "### <center> Preparación de Datos"
   ]
  },
  {
   "cell_type": "code",
   "execution_count": 3,
   "id": "d093854b",
   "metadata": {},
   "outputs": [
    {
     "name": "stdout",
     "output_type": "stream",
     "text": [
      "<class 'pandas.core.frame.DataFrame'>\n",
      "RangeIndex: 91543 entries, 0 to 91542\n",
      "Data columns (total 15 columns):\n",
      " #   Column                Non-Null Count  Dtype  \n",
      "---  ------                --------------  -----  \n",
      " 0   anio                  91543 non-null  int64  \n",
      " 1   mes                   91543 non-null  int64  \n",
      " 2   maquina               91543 non-null  object \n",
      " 3   central               91543 non-null  object \n",
      " 4   agente                91543 non-null  object \n",
      " 5   agente_descripcion    91543 non-null  object \n",
      " 6   region                91543 non-null  object \n",
      " 7   pais                  91543 non-null  object \n",
      " 8   tipo_maquina          91543 non-null  object \n",
      " 9   fuente_generacion     91543 non-null  object \n",
      " 10  tecnologia            91543 non-null  object \n",
      " 11  categoria_hidraulica  9349 non-null   object \n",
      " 12  categoria_region      91543 non-null  object \n",
      " 13  generacion_neta_MWh   91543 non-null  float64\n",
      " 14  indice_tiempo         91543 non-null  object \n",
      "dtypes: float64(1), int64(2), object(12)\n",
      "memory usage: 10.5+ MB\n"
     ]
    }
   ],
   "source": [
    "df.info()"
   ]
  },
  {
   "cell_type": "code",
   "execution_count": 4,
   "id": "b025f289",
   "metadata": {},
   "outputs": [
    {
     "data": {
      "text/plain": [
       "False    91543\n",
       "dtype: int64"
      ]
     },
     "execution_count": 4,
     "metadata": {},
     "output_type": "execute_result"
    }
   ],
   "source": [
    "# Chequeo de registros duplicados:\n",
    "df.duplicated().value_counts()"
   ]
  },
  {
   "cell_type": "markdown",
   "id": "698e66f3",
   "metadata": {},
   "source": [
    "Observamos que el DataFrame posee 91543 registros, y que cada columna posee la misma cantidad de objetos no nulos (ni *'Nan'* ni *'None'*) a excepción de *'categoria_hidraulica'*, aunque esta es una columna no significativa para nuestro análisis. Además, no existen registros duplicados."
   ]
  },
  {
   "cell_type": "code",
   "execution_count": 5,
   "id": "de661bd0",
   "metadata": {},
   "outputs": [],
   "source": [
    "# Eliminamos la columna 'categoria_hidraulica':\n",
    "df.drop(['categoria_hidraulica'], axis=1, inplace=True)"
   ]
  },
  {
   "cell_type": "code",
   "execution_count": 6,
   "id": "ebe55a91",
   "metadata": {},
   "outputs": [
    {
     "data": {
      "text/plain": [
       "Argentina      91541\n",
       "(en blanco)        1\n",
       "Paraguay           1\n",
       "Name: pais, dtype: int64"
      ]
     },
     "execution_count": 6,
     "metadata": {},
     "output_type": "execute_result"
    }
   ],
   "source": [
    "# Chequeo de países presentes:\n",
    "df['pais'].value_counts()"
   ]
  },
  {
   "cell_type": "code",
   "execution_count": 7,
   "id": "65e5beed",
   "metadata": {},
   "outputs": [
    {
     "data": {
      "text/plain": [
       "Argentina    91541\n",
       "Name: pais, dtype: int64"
      ]
     },
     "execution_count": 7,
     "metadata": {},
     "output_type": "execute_result"
    }
   ],
   "source": [
    "# Redefinimos el dataset, conservando sólamente los registros válidos para Argentina:\n",
    "df = df[df['pais'] == \"Argentina\"]\n",
    "df['pais'].value_counts()"
   ]
  },
  {
   "cell_type": "code",
   "execution_count": 8,
   "id": "e42f321d",
   "metadata": {},
   "outputs": [],
   "source": [
    "# Como hemos eliminado registros, reseteamos los índices del DataFrame:\n",
    "df.set_index((i for i in range(len(df))), inplace=True)"
   ]
  },
  {
   "cell_type": "code",
   "execution_count": 9,
   "id": "47d3ae0d",
   "metadata": {},
   "outputs": [
    {
     "name": "stdout",
     "output_type": "stream",
     "text": [
      "<class 'pandas.core.frame.DataFrame'>\n",
      "Int64Index: 91541 entries, 0 to 91540\n",
      "Data columns (total 14 columns):\n",
      " #   Column               Non-Null Count  Dtype  \n",
      "---  ------               --------------  -----  \n",
      " 0   anio                 91541 non-null  int64  \n",
      " 1   mes                  91541 non-null  int64  \n",
      " 2   maquina              91541 non-null  object \n",
      " 3   central              91541 non-null  object \n",
      " 4   agente               91541 non-null  object \n",
      " 5   agente_descripcion   91541 non-null  object \n",
      " 6   region               91541 non-null  object \n",
      " 7   pais                 91541 non-null  object \n",
      " 8   tipo_maquina         91541 non-null  object \n",
      " 9   fuente_generacion    91541 non-null  object \n",
      " 10  tecnologia           91541 non-null  object \n",
      " 11  categoria_region     91541 non-null  object \n",
      " 12  generacion_neta_MWh  91541 non-null  float64\n",
      " 13  indice_tiempo        91541 non-null  object \n",
      "dtypes: float64(1), int64(2), object(11)\n",
      "memory usage: 10.5+ MB\n"
     ]
    }
   ],
   "source": [
    "# Información actualizada:\n",
    "df.info()"
   ]
  },
  {
   "cell_type": "markdown",
   "id": "53d3798c",
   "metadata": {},
   "source": [
    "El DataFrame consta de 91541 registros, sin inconsistencias, valores no nulos ni duplicados. Todos los registros son pertenecientes a la Argentina."
   ]
  },
  {
   "cell_type": "markdown",
   "id": "56f87ee7",
   "metadata": {},
   "source": [
    "---\n",
    "### <center> Análisis exploratorio de Datos"
   ]
  },
  {
   "cell_type": "markdown",
   "id": "cfdbe902",
   "metadata": {},
   "source": [
    "Al consultar las **'fuentes_generacion'**, observamos que existen varias clasificaciones para las tecnologías no renovables (Térmica, Hidráulica y Nuclear):"
   ]
  },
  {
   "cell_type": "code",
   "execution_count": 10,
   "id": "866c45b4",
   "metadata": {},
   "outputs": [
    {
     "data": {
      "text/plain": [
       "Térmica       78568\n",
       "Renovable      6469\n",
       "Hidráulica     6230\n",
       "Nuclear         274\n",
       "Name: fuente_generacion, dtype: int64"
      ]
     },
     "execution_count": 10,
     "metadata": {},
     "output_type": "execute_result"
    }
   ],
   "source": [
    "df['fuente_generacion'].value_counts()"
   ]
  },
  {
   "cell_type": "code",
   "execution_count": 11,
   "id": "4de5b9be",
   "metadata": {},
   "outputs": [
    {
     "data": {
      "text/plain": [
       "DI      53765\n",
       "TG      13977\n",
       "CC       6288\n",
       "HR       5477\n",
       "TV       4620\n",
       "HID      3871\n",
       "EOL      1250\n",
       "SOL       813\n",
       "BIOM      664\n",
       "BIOG      443\n",
       "NUC       274\n",
       "MHID       99\n",
       "Name: tecnologia, dtype: int64"
      ]
     },
     "execution_count": 11,
     "metadata": {},
     "output_type": "execute_result"
    }
   ],
   "source": [
    "# Analizamos los Tipos de tecnología disponibles:\n",
    "df['tecnologia'].value_counts()"
   ]
  },
  {
   "cell_type": "markdown",
   "id": "cbbcfc35",
   "metadata": {},
   "source": [
    "Estas Tecnologías se corresponden con las siguientes descripciones:\n",
    "\n",
    "**No Renovables:**\n",
    "\n",
    "* DI: Diesel\n",
    "* TG: Turbo Gas\n",
    "* CC: Ciclos Combinados\n",
    "* HID: Hidroeléctrica\n",
    "* NUC: Nuclear\n",
    "\n",
    "\n",
    "**Renovables:**\n",
    "\n",
    "* HR: Resto Hidráulico\n",
    "* TV: Turbo Vapor\n",
    "* EOL: Eólica\n",
    "* SOL: Solar\n",
    "* BIOM: Biomasa\n",
    "* BIOG: Biogas\n",
    "* MHID: Microhidráulica"
   ]
  },
  {
   "cell_type": "code",
   "execution_count": 12,
   "id": "e3a16304",
   "metadata": {},
   "outputs": [
    {
     "data": {
      "text/plain": [
       "HR      3118\n",
       "EOL     1250\n",
       "SOL      813\n",
       "BIOM     664\n",
       "BIOG     443\n",
       "MHID      99\n",
       "TV        82\n",
       "Name: tecnologia, dtype: int64"
      ]
     },
     "execution_count": 12,
     "metadata": {},
     "output_type": "execute_result"
    }
   ],
   "source": [
    "# Corroboramos esta clasificación, consultando aquellas consideradas 'Renovables':\n",
    "df[df['fuente_generacion'] == \"Renovable\"]['tecnologia'].value_counts()"
   ]
  },
  {
   "cell_type": "markdown",
   "id": "355c57e4",
   "metadata": {},
   "source": [
    "Como la columna **'fuente_generacion'** posee varias clasificaciones según el origen de las fuentes no renovables, agrupamos estas clasificaciones y agregamos una columna **'renovable'** con valores booleanos que indique claramente si la producción es renovable o no:"
   ]
  },
  {
   "cell_type": "code",
   "execution_count": 13,
   "id": "d669bd48",
   "metadata": {},
   "outputs": [],
   "source": [
    "# Creamos los datos para la columna 'renovable':\n",
    "col_renovables = []\n",
    "\n",
    "for i in range(len(df)):\n",
    "    no_renovables = [\"DI\", \"TG\", \"CC\", \"HID\", \"NUC\"]\n",
    "    estado = True\n",
    "    if df['tecnologia'][i] in no_renovables:\n",
    "        estado = False\n",
    "    col_renovables.append(estado)\n",
    "\n",
    "# La asignamos al DataFrame:\n",
    "df['renovable'] = col_renovables"
   ]
  },
  {
   "cell_type": "markdown",
   "id": "c612c18d",
   "metadata": {},
   "source": [
    "Consultamos la producción energética anual según si es renovable o no:"
   ]
  },
  {
   "cell_type": "code",
   "execution_count": 23,
   "id": "8842eba4",
   "metadata": {},
   "outputs": [
    {
     "data": {
      "text/plain": [
       "anio  renovable\n",
       "2012  False        106.774155\n",
       "      True          18.934364\n",
       "2013  False        112.929202\n",
       "      True          20.611397\n",
       "2014  False        111.847246\n",
       "      True          22.986741\n",
       "2015  False        117.664821\n",
       "      True          23.508196\n",
       "2016  False        120.542962\n",
       "      True          20.244012\n",
       "2017  False        124.698230\n",
       "      True          15.031243\n",
       "2018  False        127.049060\n",
       "      True          12.497973\n",
       "2019  False        119.077790\n",
       "      True          13.180010\n",
       "2020  False         20.692694\n",
       "      True           2.936476\n",
       "Name: generacion_neta_MWh, dtype: float64"
      ]
     },
     "execution_count": 23,
     "metadata": {},
     "output_type": "execute_result"
    }
   ],
   "source": [
    "# Consultamos la generación neta en MWh según año y según origen renovable:\n",
    "anual_MWh = df.groupby(['anio', 'renovable'])['generacion_neta_MWh'].sum()\n",
    "\n",
    "# Convertimos los valores a TWh (Terawatts por hora) para una mejor lectura:\n",
    "anual_TWh = anual_MWh / 1000000\n",
    "anual_TWh"
   ]
  },
  {
   "cell_type": "code",
   "execution_count": 45,
   "id": "64f47363",
   "metadata": {},
   "outputs": [
    {
     "data": {
      "image/png": "[encoded data removed]",
      "text/plain": [
       "<Figure size 720x432 with 1 Axes>"
      ]
     },
     "metadata": {
      "needs_background": "light"
     },
     "output_type": "display_data"
    }
   ],
   "source": [
    "# Generamos un gráfico de barras apiladas:\n",
    "anual_TWh.unstack().plot(kind=\"bar\", stacked=True, figsize=(10, 6))\n",
    "plt.title(\"Generación eléctrica total anual según Renovabilidad\")\n",
    "plt.xlabel(\"Año\")\n",
    "plt.ylabel(\"Generación (TWh)\")\n",
    "plt.show()"
   ]
  },
  {
   "cell_type": "code",
   "execution_count": null,
   "id": "337dc769",
   "metadata": {},
   "outputs": [],
   "source": []
  }
 ],
 "metadata": {
  "kernelspec": {
   "display_name": "Python 3 (ipykernel)",
   "language": "python",
   "name": "python3"
  },
  "language_info": {
   "codemirror_mode": {
    "name": "ipython",
    "version": 3
   },
   "file_extension": ".py",
   "mimetype": "text/x-python",
   "name": "python",
   "nbconvert_exporter": "python",
   "pygments_lexer": "ipython3",
   "version": "3.9.12"
  }
 },
 "nbformat": 4,
 "nbformat_minor": 5
}
