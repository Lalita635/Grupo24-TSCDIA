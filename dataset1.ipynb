{
 "cells": [
  {
   "cell_type": "markdown",
   "metadata": {},
   "source": []
  },
  {
   "cell_type": "code",
   "execution_count": 1,
   "metadata": {},
   "outputs": [],
   "source": [
    "import pandas as pd\n",
    "import matplotlib.pyplot as plt\n",
    "import seaborn as sns\n",
    "import numpy as np"
   ]
  },
  {
   "cell_type": "markdown",
   "metadata": {},
   "source": []
  },
  {
   "cell_type": "code",
   "execution_count": 2,
   "metadata": {},
   "outputs": [],
   "source": [
    "url4 = 'https://raw.githubusercontent.com/gagabriela2787/PracticaProfISPC/main/dataset/disponibilidad-por-central.csv'"
   ]
  },
  {
   "cell_type": "markdown",
   "metadata": {},
   "source": []
  },
  {
   "cell_type": "code",
   "execution_count": 3,
   "metadata": {},
   "outputs": [],
   "source": [
    "df4 = pd.read_csv(url4)"
   ]
  },
  {
   "cell_type": "code",
   "execution_count": 4,
   "metadata": {},
   "outputs": [
    {
     "data": {
      "text/html": [
       "<div>\n",
       "<style scoped>\n",
       "    .dataframe tbody tr th:only-of-type {\n",
       "        vertical-align: middle;\n",
       "    }\n",
       "\n",
       "    .dataframe tbody tr th {\n",
       "        vertical-align: top;\n",
       "    }\n",
       "\n",
       "    .dataframe thead th {\n",
       "        text-align: right;\n",
       "    }\n",
       "</style>\n",
       "<table border=\"1\" class=\"dataframe\">\n",
       "  <thead>\n",
       "    <tr style=\"text-align: right;\">\n",
       "      <th></th>\n",
       "      <th>id</th>\n",
       "      <th>mes</th>\n",
       "      <th>central</th>\n",
       "      <th>agente</th>\n",
       "      <th>descripcion</th>\n",
       "      <th>tecnologia_descripcion</th>\n",
       "      <th>tecnologia</th>\n",
       "      <th>factor_disp_tec_porcentaje</th>\n",
       "      <th>fecha_proceso</th>\n",
       "      <th>lote_id_log</th>\n",
       "      <th>indice_tiempo</th>\n",
       "    </tr>\n",
       "  </thead>\n",
       "  <tbody>\n",
       "    <tr>\n",
       "      <th>0</th>\n",
       "      <td>121855</td>\n",
       "      <td>1</td>\n",
       "      <td>ABRO</td>\n",
       "      <td>CTBROWNG</td>\n",
       "      <td>C.T. ALMIRANTE BROWN</td>\n",
       "      <td>Motor Diesel</td>\n",
       "      <td>DI</td>\n",
       "      <td>1.000000</td>\n",
       "      <td>2020-05-05 11:07:57.624983</td>\n",
       "      <td>67</td>\n",
       "      <td>2017-01</td>\n",
       "    </tr>\n",
       "    <tr>\n",
       "      <th>1</th>\n",
       "      <td>121856</td>\n",
       "      <td>1</td>\n",
       "      <td>ACAJ</td>\n",
       "      <td>CAPEXSAG</td>\n",
       "      <td>C.T. AGUA DEL CAJON</td>\n",
       "      <td>Ciclos Combinados</td>\n",
       "      <td>CC</td>\n",
       "      <td>0.700782</td>\n",
       "      <td>2020-05-05 11:07:57.624983</td>\n",
       "      <td>67</td>\n",
       "      <td>2017-01</td>\n",
       "    </tr>\n",
       "    <tr>\n",
       "      <th>2</th>\n",
       "      <td>121857</td>\n",
       "      <td>1</td>\n",
       "      <td>AESP</td>\n",
       "      <td>CTAESPAG</td>\n",
       "      <td>C.T. AES PARANA</td>\n",
       "      <td>Ciclos Combinados</td>\n",
       "      <td>CC</td>\n",
       "      <td>0.976917</td>\n",
       "      <td>2020-05-05 11:07:57.624983</td>\n",
       "      <td>67</td>\n",
       "      <td>2017-01</td>\n",
       "    </tr>\n",
       "    <tr>\n",
       "      <th>3</th>\n",
       "      <td>121858</td>\n",
       "      <td>1</td>\n",
       "      <td>ALEM</td>\n",
       "      <td>CTALEMAG</td>\n",
       "      <td>CT ALEM - AGGREKO</td>\n",
       "      <td>Motor Diesel</td>\n",
       "      <td>DI</td>\n",
       "      <td>1.000000</td>\n",
       "      <td>2020-05-05 11:07:57.624983</td>\n",
       "      <td>67</td>\n",
       "      <td>2017-01</td>\n",
       "    </tr>\n",
       "    <tr>\n",
       "      <th>4</th>\n",
       "      <td>121859</td>\n",
       "      <td>1</td>\n",
       "      <td>ALUM</td>\n",
       "      <td>CTALUMSG</td>\n",
       "      <td>CT ALUMINÉ - SECCO</td>\n",
       "      <td>Motor Diesel</td>\n",
       "      <td>DI</td>\n",
       "      <td>1.000000</td>\n",
       "      <td>2020-05-05 11:07:57.624983</td>\n",
       "      <td>67</td>\n",
       "      <td>2017-01</td>\n",
       "    </tr>\n",
       "  </tbody>\n",
       "</table>\n",
       "</div>"
      ],
      "text/plain": [
       "       id  mes central    agente           descripcion tecnologia_descripcion   \n",
       "0  121855    1    ABRO  CTBROWNG  C.T. ALMIRANTE BROWN           Motor Diesel  \\\n",
       "1  121856    1    ACAJ  CAPEXSAG   C.T. AGUA DEL CAJON      Ciclos Combinados   \n",
       "2  121857    1    AESP  CTAESPAG       C.T. AES PARANA      Ciclos Combinados   \n",
       "3  121858    1    ALEM  CTALEMAG     CT ALEM - AGGREKO           Motor Diesel   \n",
       "4  121859    1    ALUM  CTALUMSG    CT ALUMINÉ - SECCO           Motor Diesel   \n",
       "\n",
       "  tecnologia  factor_disp_tec_porcentaje               fecha_proceso   \n",
       "0         DI                    1.000000  2020-05-05 11:07:57.624983  \\\n",
       "1         CC                    0.700782  2020-05-05 11:07:57.624983   \n",
       "2         CC                    0.976917  2020-05-05 11:07:57.624983   \n",
       "3         DI                    1.000000  2020-05-05 11:07:57.624983   \n",
       "4         DI                    1.000000  2020-05-05 11:07:57.624983   \n",
       "\n",
       "   lote_id_log indice_tiempo  \n",
       "0           67       2017-01  \n",
       "1           67       2017-01  \n",
       "2           67       2017-01  \n",
       "3           67       2017-01  \n",
       "4           67       2017-01  "
      ]
     },
     "execution_count": 4,
     "metadata": {},
     "output_type": "execute_result"
    }
   ],
   "source": [
    "df4.head()"
   ]
  },
  {
   "cell_type": "code",
   "execution_count": 5,
   "metadata": {},
   "outputs": [
    {
     "data": {
      "text/plain": [
       "(8103, 11)"
      ]
     },
     "execution_count": 5,
     "metadata": {},
     "output_type": "execute_result"
    }
   ],
   "source": [
    "df4.shape\n"
   ]
  },
  {
   "cell_type": "code",
   "execution_count": 6,
   "metadata": {},
   "outputs": [
    {
     "name": "stdout",
     "output_type": "stream",
     "text": [
      "Index(['id', 'mes', 'central', 'agente', 'descripcion',\n",
      "       'tecnologia_descripcion', 'tecnologia', 'factor_disp_tec_porcentaje',\n",
      "       'fecha_proceso', 'lote_id_log', 'indice_tiempo'],\n",
      "      dtype='object')\n"
     ]
    }
   ],
   "source": [
    "print(df4.columns)\n"
   ]
  },
  {
   "cell_type": "code",
   "execution_count": 7,
   "metadata": {},
   "outputs": [
    {
     "data": {
      "text/html": [
       "<div>\n",
       "<style scoped>\n",
       "    .dataframe tbody tr th:only-of-type {\n",
       "        vertical-align: middle;\n",
       "    }\n",
       "\n",
       "    .dataframe tbody tr th {\n",
       "        vertical-align: top;\n",
       "    }\n",
       "\n",
       "    .dataframe thead th {\n",
       "        text-align: right;\n",
       "    }\n",
       "</style>\n",
       "<table border=\"1\" class=\"dataframe\">\n",
       "  <thead>\n",
       "    <tr style=\"text-align: right;\">\n",
       "      <th></th>\n",
       "      <th>id</th>\n",
       "      <th>mes</th>\n",
       "      <th>factor_disp_tec_porcentaje</th>\n",
       "      <th>lote_id_log</th>\n",
       "    </tr>\n",
       "  </thead>\n",
       "  <tbody>\n",
       "    <tr>\n",
       "      <th>count</th>\n",
       "      <td>8103.000000</td>\n",
       "      <td>8103.000000</td>\n",
       "      <td>8103.000000</td>\n",
       "      <td>8103.0</td>\n",
       "    </tr>\n",
       "    <tr>\n",
       "      <th>mean</th>\n",
       "      <td>125906.000000</td>\n",
       "      <td>6.291003</td>\n",
       "      <td>0.779705</td>\n",
       "      <td>67.0</td>\n",
       "    </tr>\n",
       "    <tr>\n",
       "      <th>std</th>\n",
       "      <td>2339.278949</td>\n",
       "      <td>3.527090</td>\n",
       "      <td>0.334617</td>\n",
       "      <td>0.0</td>\n",
       "    </tr>\n",
       "    <tr>\n",
       "      <th>min</th>\n",
       "      <td>121855.000000</td>\n",
       "      <td>1.000000</td>\n",
       "      <td>0.000000</td>\n",
       "      <td>67.0</td>\n",
       "    </tr>\n",
       "    <tr>\n",
       "      <th>25%</th>\n",
       "      <td>123880.500000</td>\n",
       "      <td>3.000000</td>\n",
       "      <td>0.749833</td>\n",
       "      <td>67.0</td>\n",
       "    </tr>\n",
       "    <tr>\n",
       "      <th>50%</th>\n",
       "      <td>125906.000000</td>\n",
       "      <td>6.000000</td>\n",
       "      <td>0.946410</td>\n",
       "      <td>67.0</td>\n",
       "    </tr>\n",
       "    <tr>\n",
       "      <th>75%</th>\n",
       "      <td>127931.500000</td>\n",
       "      <td>9.000000</td>\n",
       "      <td>0.999812</td>\n",
       "      <td>67.0</td>\n",
       "    </tr>\n",
       "    <tr>\n",
       "      <th>max</th>\n",
       "      <td>129957.000000</td>\n",
       "      <td>12.000000</td>\n",
       "      <td>1.000000</td>\n",
       "      <td>67.0</td>\n",
       "    </tr>\n",
       "  </tbody>\n",
       "</table>\n",
       "</div>"
      ],
      "text/plain": [
       "                  id          mes  factor_disp_tec_porcentaje  lote_id_log\n",
       "count    8103.000000  8103.000000                 8103.000000       8103.0\n",
       "mean   125906.000000     6.291003                    0.779705         67.0\n",
       "std      2339.278949     3.527090                    0.334617          0.0\n",
       "min    121855.000000     1.000000                    0.000000         67.0\n",
       "25%    123880.500000     3.000000                    0.749833         67.0\n",
       "50%    125906.000000     6.000000                    0.946410         67.0\n",
       "75%    127931.500000     9.000000                    0.999812         67.0\n",
       "max    129957.000000    12.000000                    1.000000         67.0"
      ]
     },
     "execution_count": 7,
     "metadata": {},
     "output_type": "execute_result"
    }
   ],
   "source": [
    "df4.describe()\n"
   ]
  },
  {
   "cell_type": "code",
   "execution_count": 8,
   "metadata": {},
   "outputs": [
    {
     "name": "stdout",
     "output_type": "stream",
     "text": [
      "<class 'pandas.core.frame.DataFrame'>\n",
      "RangeIndex: 8103 entries, 0 to 8102\n",
      "Data columns (total 11 columns):\n",
      " #   Column                      Non-Null Count  Dtype  \n",
      "---  ------                      --------------  -----  \n",
      " 0   id                          8103 non-null   int64  \n",
      " 1   mes                         8103 non-null   int64  \n",
      " 2   central                     8103 non-null   object \n",
      " 3   agente                      8103 non-null   object \n",
      " 4   descripcion                 8103 non-null   object \n",
      " 5   tecnologia_descripcion      8103 non-null   object \n",
      " 6   tecnologia                  8103 non-null   object \n",
      " 7   factor_disp_tec_porcentaje  8103 non-null   float64\n",
      " 8   fecha_proceso               8103 non-null   object \n",
      " 9   lote_id_log                 8103 non-null   int64  \n",
      " 10  indice_tiempo               8103 non-null   object \n",
      "dtypes: float64(1), int64(3), object(7)\n",
      "memory usage: 696.5+ KB\n"
     ]
    }
   ],
   "source": [
    "df4.info()"
   ]
  }
 ],
 "metadata": {
  "kernelspec": {
   "display_name": "Python 3",
   "language": "python",
   "name": "python3"
  },
  "language_info": {
   "codemirror_mode": {
    "name": "ipython",
    "version": 3
   },
   "file_extension": ".py",
   "mimetype": "text/x-python",
   "name": "python",
   "nbconvert_exporter": "python",
   "pygments_lexer": "ipython3",
   "version": "3.10.11"
  }
 },
 "nbformat": 4,
 "nbformat_minor": 2
}
