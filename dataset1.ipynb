{
 "cells": [
  {
   "cell_type": "markdown",
   "metadata": {},
   "source": [
    "# PROYECTO COLABORATIVO"
   ]
  },
  {
   "cell_type": "code",
   "execution_count": 1,
   "metadata": {},
   "outputs": [],
   "source": [
    "import pandas as pd\n",
    "import matplotlib.pyplot as plt\n",
    "import seaborn as sns\n",
    "import numpy as np"
   ]
  },
  {
   "cell_type": "markdown",
   "metadata": {},
   "source": [
    "### DataSet"
   ]
  },
  {
   "cell_type": "code",
   "execution_count": 2,
   "metadata": {},
   "outputs": [],
   "source": [
    "url4 = 'https://raw.githubusercontent.com/gagabriela2787/PracticaProfISPC/main/dataset/disponibilidad-por-central.csv'"
   ]
  },
  {
   "cell_type": "markdown",
   "metadata": {},
   "source": [
    "#### Lectura del DataSet"
   ]
  },
  {
   "cell_type": "code",
   "execution_count": 3,
   "metadata": {},
   "outputs": [],
   "source": [
    "df4 = pd.read_csv(url4)"
   ]
  },
  {
   "cell_type": "markdown",
   "metadata": {},
   "source": [
    "#### Se muestras las primeras 10 filas del DataSet"
   ]
  },
  {
   "cell_type": "code",
   "execution_count": 4,
   "metadata": {},
   "outputs": [
    {
     "data": {
      "text/html": [
       "<div>\n",
       "<style scoped>\n",
       "    .dataframe tbody tr th:only-of-type {\n",
       "        vertical-align: middle;\n",
       "    }\n",
       "\n",
       "    .dataframe tbody tr th {\n",
       "        vertical-align: top;\n",
       "    }\n",
       "\n",
       "    .dataframe thead th {\n",
       "        text-align: right;\n",
       "    }\n",
       "</style>\n",
       "<table border=\"1\" class=\"dataframe\">\n",
       "  <thead>\n",
       "    <tr style=\"text-align: right;\">\n",
       "      <th></th>\n",
       "      <th>id</th>\n",
       "      <th>mes</th>\n",
       "      <th>central</th>\n",
       "      <th>agente</th>\n",
       "      <th>descripcion</th>\n",
       "      <th>tecnologia_descripcion</th>\n",
       "      <th>tecnologia</th>\n",
       "      <th>factor_disp_tec_porcentaje</th>\n",
       "      <th>fecha_proceso</th>\n",
       "      <th>lote_id_log</th>\n",
       "      <th>indice_tiempo</th>\n",
       "    </tr>\n",
       "  </thead>\n",
       "  <tbody>\n",
       "    <tr>\n",
       "      <th>0</th>\n",
       "      <td>121855</td>\n",
       "      <td>1</td>\n",
       "      <td>ABRO</td>\n",
       "      <td>CTBROWNG</td>\n",
       "      <td>C.T. ALMIRANTE BROWN</td>\n",
       "      <td>Motor Diesel</td>\n",
       "      <td>DI</td>\n",
       "      <td>1.000000</td>\n",
       "      <td>2020-05-05 11:07:57.624983</td>\n",
       "      <td>67</td>\n",
       "      <td>2017-01</td>\n",
       "    </tr>\n",
       "    <tr>\n",
       "      <th>1</th>\n",
       "      <td>121856</td>\n",
       "      <td>1</td>\n",
       "      <td>ACAJ</td>\n",
       "      <td>CAPEXSAG</td>\n",
       "      <td>C.T. AGUA DEL CAJON</td>\n",
       "      <td>Ciclos Combinados</td>\n",
       "      <td>CC</td>\n",
       "      <td>0.700782</td>\n",
       "      <td>2020-05-05 11:07:57.624983</td>\n",
       "      <td>67</td>\n",
       "      <td>2017-01</td>\n",
       "    </tr>\n",
       "    <tr>\n",
       "      <th>2</th>\n",
       "      <td>121857</td>\n",
       "      <td>1</td>\n",
       "      <td>AESP</td>\n",
       "      <td>CTAESPAG</td>\n",
       "      <td>C.T. AES PARANA</td>\n",
       "      <td>Ciclos Combinados</td>\n",
       "      <td>CC</td>\n",
       "      <td>0.976917</td>\n",
       "      <td>2020-05-05 11:07:57.624983</td>\n",
       "      <td>67</td>\n",
       "      <td>2017-01</td>\n",
       "    </tr>\n",
       "    <tr>\n",
       "      <th>3</th>\n",
       "      <td>121858</td>\n",
       "      <td>1</td>\n",
       "      <td>ALEM</td>\n",
       "      <td>CTALEMAG</td>\n",
       "      <td>CT ALEM - AGGREKO</td>\n",
       "      <td>Motor Diesel</td>\n",
       "      <td>DI</td>\n",
       "      <td>1.000000</td>\n",
       "      <td>2020-05-05 11:07:57.624983</td>\n",
       "      <td>67</td>\n",
       "      <td>2017-01</td>\n",
       "    </tr>\n",
       "    <tr>\n",
       "      <th>4</th>\n",
       "      <td>121859</td>\n",
       "      <td>1</td>\n",
       "      <td>ALUM</td>\n",
       "      <td>CTALUMSG</td>\n",
       "      <td>CT ALUMINÉ - SECCO</td>\n",
       "      <td>Motor Diesel</td>\n",
       "      <td>DI</td>\n",
       "      <td>1.000000</td>\n",
       "      <td>2020-05-05 11:07:57.624983</td>\n",
       "      <td>67</td>\n",
       "      <td>2017-01</td>\n",
       "    </tr>\n",
       "    <tr>\n",
       "      <th>5</th>\n",
       "      <td>121860</td>\n",
       "      <td>1</td>\n",
       "      <td>ANAT</td>\n",
       "      <td>CTANA2SG</td>\n",
       "      <td>CT AÑATUYA II - SULLAIR</td>\n",
       "      <td>Motor Diesel</td>\n",
       "      <td>DI</td>\n",
       "      <td>0.921915</td>\n",
       "      <td>2020-05-05 11:07:57.624983</td>\n",
       "      <td>67</td>\n",
       "      <td>2017-01</td>\n",
       "    </tr>\n",
       "    <tr>\n",
       "      <th>6</th>\n",
       "      <td>121861</td>\n",
       "      <td>1</td>\n",
       "      <td>ANAT</td>\n",
       "      <td>CTANATSG</td>\n",
       "      <td>CT AÑATUYA - SULLAIR</td>\n",
       "      <td>Motor Diesel</td>\n",
       "      <td>DI</td>\n",
       "      <td>1.000000</td>\n",
       "      <td>2020-05-05 11:07:57.624983</td>\n",
       "      <td>67</td>\n",
       "      <td>2017-01</td>\n",
       "    </tr>\n",
       "    <tr>\n",
       "      <th>7</th>\n",
       "      <td>121862</td>\n",
       "      <td>1</td>\n",
       "      <td>ARGE</td>\n",
       "      <td>SIDERCAC</td>\n",
       "      <td>SIDERCA SA(EX ARGENER-GEN.PAR)</td>\n",
       "      <td>Turbina a gas</td>\n",
       "      <td>TG</td>\n",
       "      <td>1.000000</td>\n",
       "      <td>2020-05-05 11:07:57.624983</td>\n",
       "      <td>67</td>\n",
       "      <td>2017-01</td>\n",
       "    </tr>\n",
       "    <tr>\n",
       "      <th>8</th>\n",
       "      <td>121863</td>\n",
       "      <td>1</td>\n",
       "      <td>ARIS</td>\n",
       "      <td>CTARIVSG</td>\n",
       "      <td>CT ARISTOBU.DEL VALLE-SOENERGY</td>\n",
       "      <td>Motor Diesel</td>\n",
       "      <td>DI</td>\n",
       "      <td>1.000000</td>\n",
       "      <td>2020-05-05 11:07:57.624983</td>\n",
       "      <td>67</td>\n",
       "      <td>2017-01</td>\n",
       "    </tr>\n",
       "    <tr>\n",
       "      <th>9</th>\n",
       "      <td>121864</td>\n",
       "      <td>1</td>\n",
       "      <td>ARMA</td>\n",
       "      <td>CTLARM2G</td>\n",
       "      <td>CT LAS ARMAS II - EMGASUD</td>\n",
       "      <td>Turbina a gas</td>\n",
       "      <td>TG</td>\n",
       "      <td>1.000000</td>\n",
       "      <td>2020-05-05 11:07:57.624983</td>\n",
       "      <td>67</td>\n",
       "      <td>2017-01</td>\n",
       "    </tr>\n",
       "  </tbody>\n",
       "</table>\n",
       "</div>"
      ],
      "text/plain": [
       "       id  mes central    agente                     descripcion   \n",
       "0  121855    1    ABRO  CTBROWNG            C.T. ALMIRANTE BROWN  \\\n",
       "1  121856    1    ACAJ  CAPEXSAG             C.T. AGUA DEL CAJON   \n",
       "2  121857    1    AESP  CTAESPAG                 C.T. AES PARANA   \n",
       "3  121858    1    ALEM  CTALEMAG               CT ALEM - AGGREKO   \n",
       "4  121859    1    ALUM  CTALUMSG              CT ALUMINÉ - SECCO   \n",
       "5  121860    1    ANAT  CTANA2SG         CT AÑATUYA II - SULLAIR   \n",
       "6  121861    1    ANAT  CTANATSG            CT AÑATUYA - SULLAIR   \n",
       "7  121862    1    ARGE  SIDERCAC  SIDERCA SA(EX ARGENER-GEN.PAR)   \n",
       "8  121863    1    ARIS  CTARIVSG  CT ARISTOBU.DEL VALLE-SOENERGY   \n",
       "9  121864    1    ARMA  CTLARM2G       CT LAS ARMAS II - EMGASUD   \n",
       "\n",
       "  tecnologia_descripcion tecnologia  factor_disp_tec_porcentaje   \n",
       "0           Motor Diesel         DI                    1.000000  \\\n",
       "1      Ciclos Combinados         CC                    0.700782   \n",
       "2      Ciclos Combinados         CC                    0.976917   \n",
       "3           Motor Diesel         DI                    1.000000   \n",
       "4           Motor Diesel         DI                    1.000000   \n",
       "5           Motor Diesel         DI                    0.921915   \n",
       "6           Motor Diesel         DI                    1.000000   \n",
       "7          Turbina a gas         TG                    1.000000   \n",
       "8           Motor Diesel         DI                    1.000000   \n",
       "9          Turbina a gas         TG                    1.000000   \n",
       "\n",
       "                fecha_proceso  lote_id_log indice_tiempo  \n",
       "0  2020-05-05 11:07:57.624983           67       2017-01  \n",
       "1  2020-05-05 11:07:57.624983           67       2017-01  \n",
       "2  2020-05-05 11:07:57.624983           67       2017-01  \n",
       "3  2020-05-05 11:07:57.624983           67       2017-01  \n",
       "4  2020-05-05 11:07:57.624983           67       2017-01  \n",
       "5  2020-05-05 11:07:57.624983           67       2017-01  \n",
       "6  2020-05-05 11:07:57.624983           67       2017-01  \n",
       "7  2020-05-05 11:07:57.624983           67       2017-01  \n",
       "8  2020-05-05 11:07:57.624983           67       2017-01  \n",
       "9  2020-05-05 11:07:57.624983           67       2017-01  "
      ]
     },
     "execution_count": 4,
     "metadata": {},
     "output_type": "execute_result"
    }
   ],
   "source": [
    "df4.head(10)"
   ]
  },
  {
   "cell_type": "markdown",
   "metadata": {},
   "source": [
    "### Se muestran con las categorias de las centrales"
   ]
  },
  {
   "cell_type": "code",
   "execution_count": 6,
   "metadata": {},
   "outputs": [
    {
     "data": {
      "text/plain": [
       "central\n",
       "LDCU    160\n",
       "MMAR    148\n",
       "LDLA    108\n",
       "GEBA     86\n",
       "DSUD     76\n",
       "       ... \n",
       "OBEM      7\n",
       "PERG      3\n",
       "GIG1      3\n",
       "JDAR      2\n",
       "JUNT      1\n",
       "Name: count, Length: 212, dtype: int64"
      ]
     },
     "execution_count": 6,
     "metadata": {},
     "output_type": "execute_result"
    }
   ],
   "source": [
    "df4['central'].value_counts() "
   ]
  },
  {
   "cell_type": "markdown",
   "metadata": {},
   "source": [
    "insertar para unir con dataset df3 y ver a que codigo corresponde cada uno al nombre completo"
   ]
  },
  {
   "cell_type": "code",
   "execution_count": 7,
   "metadata": {},
   "outputs": [
    {
     "data": {
      "text/plain": [
       "central\n",
       "LDCU    0.019746\n",
       "MMAR    0.018265\n",
       "LDLA    0.013328\n",
       "GEBA    0.010613\n",
       "DSUD    0.009379\n",
       "          ...   \n",
       "OBEM    0.000864\n",
       "PERG    0.000370\n",
       "GIG1    0.000370\n",
       "JDAR    0.000247\n",
       "JUNT    0.000123\n",
       "Name: proportion, Length: 212, dtype: float64"
      ]
     },
     "execution_count": 7,
     "metadata": {},
     "output_type": "execute_result"
    }
   ],
   "source": [
    "df4['central'].value_counts(normalize=True) #devolver la frecuencia relativa\n"
   ]
  },
  {
   "cell_type": "code",
   "execution_count": 5,
   "metadata": {},
   "outputs": [
    {
     "data": {
      "text/html": [
       "<div>\n",
       "<style scoped>\n",
       "    .dataframe tbody tr th:only-of-type {\n",
       "        vertical-align: middle;\n",
       "    }\n",
       "\n",
       "    .dataframe tbody tr th {\n",
       "        vertical-align: top;\n",
       "    }\n",
       "\n",
       "    .dataframe thead th {\n",
       "        text-align: right;\n",
       "    }\n",
       "</style>\n",
       "<table border=\"1\" class=\"dataframe\">\n",
       "  <thead>\n",
       "    <tr style=\"text-align: right;\">\n",
       "      <th></th>\n",
       "      <th>id</th>\n",
       "      <th>mes</th>\n",
       "      <th>central</th>\n",
       "      <th>agente</th>\n",
       "      <th>descripcion</th>\n",
       "      <th>tecnologia_descripcion</th>\n",
       "      <th>tecnologia</th>\n",
       "      <th>factor_disp_tec_porcentaje</th>\n",
       "      <th>fecha_proceso</th>\n",
       "      <th>lote_id_log</th>\n",
       "      <th>indice_tiempo</th>\n",
       "    </tr>\n",
       "  </thead>\n",
       "  <tbody>\n",
       "    <tr>\n",
       "      <th>0</th>\n",
       "      <td>121855</td>\n",
       "      <td>1</td>\n",
       "      <td>ABRO</td>\n",
       "      <td>CTBROWNG</td>\n",
       "      <td>C.T. ALMIRANTE BROWN</td>\n",
       "      <td>Motor Diesel</td>\n",
       "      <td>DI</td>\n",
       "      <td>1.00</td>\n",
       "      <td>2020-05-05 11:07:57.624983</td>\n",
       "      <td>67</td>\n",
       "      <td>2017-01</td>\n",
       "    </tr>\n",
       "    <tr>\n",
       "      <th>1</th>\n",
       "      <td>121856</td>\n",
       "      <td>1</td>\n",
       "      <td>ACAJ</td>\n",
       "      <td>CAPEXSAG</td>\n",
       "      <td>C.T. AGUA DEL CAJON</td>\n",
       "      <td>Ciclos Combinados</td>\n",
       "      <td>CC</td>\n",
       "      <td>0.70</td>\n",
       "      <td>2020-05-05 11:07:57.624983</td>\n",
       "      <td>67</td>\n",
       "      <td>2017-01</td>\n",
       "    </tr>\n",
       "    <tr>\n",
       "      <th>2</th>\n",
       "      <td>121857</td>\n",
       "      <td>1</td>\n",
       "      <td>AESP</td>\n",
       "      <td>CTAESPAG</td>\n",
       "      <td>C.T. AES PARANA</td>\n",
       "      <td>Ciclos Combinados</td>\n",
       "      <td>CC</td>\n",
       "      <td>0.98</td>\n",
       "      <td>2020-05-05 11:07:57.624983</td>\n",
       "      <td>67</td>\n",
       "      <td>2017-01</td>\n",
       "    </tr>\n",
       "    <tr>\n",
       "      <th>3</th>\n",
       "      <td>121858</td>\n",
       "      <td>1</td>\n",
       "      <td>ALEM</td>\n",
       "      <td>CTALEMAG</td>\n",
       "      <td>CT ALEM - AGGREKO</td>\n",
       "      <td>Motor Diesel</td>\n",
       "      <td>DI</td>\n",
       "      <td>1.00</td>\n",
       "      <td>2020-05-05 11:07:57.624983</td>\n",
       "      <td>67</td>\n",
       "      <td>2017-01</td>\n",
       "    </tr>\n",
       "    <tr>\n",
       "      <th>4</th>\n",
       "      <td>121859</td>\n",
       "      <td>1</td>\n",
       "      <td>ALUM</td>\n",
       "      <td>CTALUMSG</td>\n",
       "      <td>CT ALUMINÉ - SECCO</td>\n",
       "      <td>Motor Diesel</td>\n",
       "      <td>DI</td>\n",
       "      <td>1.00</td>\n",
       "      <td>2020-05-05 11:07:57.624983</td>\n",
       "      <td>67</td>\n",
       "      <td>2017-01</td>\n",
       "    </tr>\n",
       "    <tr>\n",
       "      <th>...</th>\n",
       "      <td>...</td>\n",
       "      <td>...</td>\n",
       "      <td>...</td>\n",
       "      <td>...</td>\n",
       "      <td>...</td>\n",
       "      <td>...</td>\n",
       "      <td>...</td>\n",
       "      <td>...</td>\n",
       "      <td>...</td>\n",
       "      <td>...</td>\n",
       "      <td>...</td>\n",
       "    </tr>\n",
       "    <tr>\n",
       "      <th>8098</th>\n",
       "      <td>129953</td>\n",
       "      <td>2</td>\n",
       "      <td>CITR</td>\n",
       "      <td>CTCITRUG</td>\n",
       "      <td>BIOGAS CTBG CITRUSVIL-ALCOVIL</td>\n",
       "      <td>Biogas</td>\n",
       "      <td>BIOG</td>\n",
       "      <td>0.01</td>\n",
       "      <td>2020-05-05 11:07:57.624983</td>\n",
       "      <td>67</td>\n",
       "      <td>2020-02</td>\n",
       "    </tr>\n",
       "    <tr>\n",
       "      <th>8099</th>\n",
       "      <td>129954</td>\n",
       "      <td>2</td>\n",
       "      <td>OBEM</td>\n",
       "      <td>EMISSANG</td>\n",
       "      <td>EMSA GENERACION</td>\n",
       "      <td>Motor Diesel</td>\n",
       "      <td>DI</td>\n",
       "      <td>1.00</td>\n",
       "      <td>2020-05-05 11:07:57.624983</td>\n",
       "      <td>67</td>\n",
       "      <td>2020-02</td>\n",
       "    </tr>\n",
       "    <tr>\n",
       "      <th>8100</th>\n",
       "      <td>129955</td>\n",
       "      <td>2</td>\n",
       "      <td>PERG</td>\n",
       "      <td>CTPERGAG</td>\n",
       "      <td>BIOGAS CTBG PERGAMINO</td>\n",
       "      <td>Biogas</td>\n",
       "      <td>BIOG</td>\n",
       "      <td>0.29</td>\n",
       "      <td>2020-05-05 11:07:57.624983</td>\n",
       "      <td>67</td>\n",
       "      <td>2020-02</td>\n",
       "    </tr>\n",
       "    <tr>\n",
       "      <th>8101</th>\n",
       "      <td>129956</td>\n",
       "      <td>2</td>\n",
       "      <td>GIG1</td>\n",
       "      <td>CTGIGENG</td>\n",
       "      <td>BIOGAS CTBG GIGENA I</td>\n",
       "      <td>Biogas</td>\n",
       "      <td>BIOG</td>\n",
       "      <td>0.12</td>\n",
       "      <td>2020-05-05 11:07:57.624983</td>\n",
       "      <td>67</td>\n",
       "      <td>2020-02</td>\n",
       "    </tr>\n",
       "    <tr>\n",
       "      <th>8102</th>\n",
       "      <td>129957</td>\n",
       "      <td>2</td>\n",
       "      <td>JDAR</td>\n",
       "      <td>CTJUSTOG</td>\n",
       "      <td>BIOGAS CTBG JUSTO DARACT</td>\n",
       "      <td>Biogas</td>\n",
       "      <td>BIOG</td>\n",
       "      <td>0.12</td>\n",
       "      <td>2020-05-05 11:07:57.624983</td>\n",
       "      <td>67</td>\n",
       "      <td>2020-02</td>\n",
       "    </tr>\n",
       "  </tbody>\n",
       "</table>\n",
       "<p>8103 rows × 11 columns</p>\n",
       "</div>"
      ],
      "text/plain": [
       "          id  mes central    agente                    descripcion   \n",
       "0     121855    1    ABRO  CTBROWNG           C.T. ALMIRANTE BROWN  \\\n",
       "1     121856    1    ACAJ  CAPEXSAG            C.T. AGUA DEL CAJON   \n",
       "2     121857    1    AESP  CTAESPAG                C.T. AES PARANA   \n",
       "3     121858    1    ALEM  CTALEMAG              CT ALEM - AGGREKO   \n",
       "4     121859    1    ALUM  CTALUMSG             CT ALUMINÉ - SECCO   \n",
       "...      ...  ...     ...       ...                            ...   \n",
       "8098  129953    2    CITR  CTCITRUG  BIOGAS CTBG CITRUSVIL-ALCOVIL   \n",
       "8099  129954    2    OBEM  EMISSANG                EMSA GENERACION   \n",
       "8100  129955    2    PERG  CTPERGAG          BIOGAS CTBG PERGAMINO   \n",
       "8101  129956    2    GIG1  CTGIGENG           BIOGAS CTBG GIGENA I   \n",
       "8102  129957    2    JDAR  CTJUSTOG       BIOGAS CTBG JUSTO DARACT   \n",
       "\n",
       "     tecnologia_descripcion tecnologia  factor_disp_tec_porcentaje   \n",
       "0              Motor Diesel         DI                        1.00  \\\n",
       "1         Ciclos Combinados         CC                        0.70   \n",
       "2         Ciclos Combinados         CC                        0.98   \n",
       "3              Motor Diesel         DI                        1.00   \n",
       "4              Motor Diesel         DI                        1.00   \n",
       "...                     ...        ...                         ...   \n",
       "8098                 Biogas       BIOG                        0.01   \n",
       "8099           Motor Diesel         DI                        1.00   \n",
       "8100                 Biogas       BIOG                        0.29   \n",
       "8101                 Biogas       BIOG                        0.12   \n",
       "8102                 Biogas       BIOG                        0.12   \n",
       "\n",
       "                   fecha_proceso  lote_id_log indice_tiempo  \n",
       "0     2020-05-05 11:07:57.624983           67       2017-01  \n",
       "1     2020-05-05 11:07:57.624983           67       2017-01  \n",
       "2     2020-05-05 11:07:57.624983           67       2017-01  \n",
       "3     2020-05-05 11:07:57.624983           67       2017-01  \n",
       "4     2020-05-05 11:07:57.624983           67       2017-01  \n",
       "...                          ...          ...           ...  \n",
       "8098  2020-05-05 11:07:57.624983           67       2020-02  \n",
       "8099  2020-05-05 11:07:57.624983           67       2020-02  \n",
       "8100  2020-05-05 11:07:57.624983           67       2020-02  \n",
       "8101  2020-05-05 11:07:57.624983           67       2020-02  \n",
       "8102  2020-05-05 11:07:57.624983           67       2020-02  \n",
       "\n",
       "[8103 rows x 11 columns]"
      ]
     },
     "execution_count": 5,
     "metadata": {},
     "output_type": "execute_result"
    }
   ],
   "source": [
    "df4.round(2) #se muestran dos decimales en la columna factor_disp_tec_porcentaje"
   ]
  },
  {
   "cell_type": "markdown",
   "metadata": {},
   "source": [
    "###### factor_disp_tec_porcentaje: Es una medida de \"capacidad de productividad\" si se quiere. Se obtiene al dividir el tiempo de producción sobre el período de tiempo. En cuando más cercano a 1, indica mayor productividad."
   ]
  },
  {
   "cell_type": "markdown",
   "metadata": {},
   "source": [
    "### Contar filas y columnas"
   ]
  },
  {
   "cell_type": "code",
   "execution_count": 5,
   "metadata": {},
   "outputs": [
    {
     "data": {
      "text/plain": [
       "(8103, 11)"
      ]
     },
     "execution_count": 5,
     "metadata": {},
     "output_type": "execute_result"
    }
   ],
   "source": [
    "df4.shape\n"
   ]
  },
  {
   "cell_type": "markdown",
   "metadata": {},
   "source": [
    "### Mostrar los nombres de las columnas"
   ]
  },
  {
   "cell_type": "code",
   "execution_count": 6,
   "metadata": {},
   "outputs": [
    {
     "name": "stdout",
     "output_type": "stream",
     "text": [
      "Index(['id', 'mes', 'central', 'agente', 'descripcion',\n",
      "       'tecnologia_descripcion', 'tecnologia', 'factor_disp_tec_porcentaje',\n",
      "       'fecha_proceso', 'lote_id_log', 'indice_tiempo'],\n",
      "      dtype='object')\n"
     ]
    }
   ],
   "source": [
    "print(df4.columns)\n"
   ]
  },
  {
   "cell_type": "markdown",
   "metadata": {},
   "source": [
    "### Propiedades estadísticas de los datos"
   ]
  },
  {
   "cell_type": "code",
   "execution_count": 7,
   "metadata": {},
   "outputs": [
    {
     "data": {
      "text/html": [
       "<div>\n",
       "<style scoped>\n",
       "    .dataframe tbody tr th:only-of-type {\n",
       "        vertical-align: middle;\n",
       "    }\n",
       "\n",
       "    .dataframe tbody tr th {\n",
       "        vertical-align: top;\n",
       "    }\n",
       "\n",
       "    .dataframe thead th {\n",
       "        text-align: right;\n",
       "    }\n",
       "</style>\n",
       "<table border=\"1\" class=\"dataframe\">\n",
       "  <thead>\n",
       "    <tr style=\"text-align: right;\">\n",
       "      <th></th>\n",
       "      <th>id</th>\n",
       "      <th>mes</th>\n",
       "      <th>factor_disp_tec_porcentaje</th>\n",
       "      <th>lote_id_log</th>\n",
       "    </tr>\n",
       "  </thead>\n",
       "  <tbody>\n",
       "    <tr>\n",
       "      <th>count</th>\n",
       "      <td>8103.000000</td>\n",
       "      <td>8103.000000</td>\n",
       "      <td>8103.000000</td>\n",
       "      <td>8103.0</td>\n",
       "    </tr>\n",
       "    <tr>\n",
       "      <th>mean</th>\n",
       "      <td>125906.000000</td>\n",
       "      <td>6.291003</td>\n",
       "      <td>0.779705</td>\n",
       "      <td>67.0</td>\n",
       "    </tr>\n",
       "    <tr>\n",
       "      <th>std</th>\n",
       "      <td>2339.278949</td>\n",
       "      <td>3.527090</td>\n",
       "      <td>0.334617</td>\n",
       "      <td>0.0</td>\n",
       "    </tr>\n",
       "    <tr>\n",
       "      <th>min</th>\n",
       "      <td>121855.000000</td>\n",
       "      <td>1.000000</td>\n",
       "      <td>0.000000</td>\n",
       "      <td>67.0</td>\n",
       "    </tr>\n",
       "    <tr>\n",
       "      <th>25%</th>\n",
       "      <td>123880.500000</td>\n",
       "      <td>3.000000</td>\n",
       "      <td>0.749833</td>\n",
       "      <td>67.0</td>\n",
       "    </tr>\n",
       "    <tr>\n",
       "      <th>50%</th>\n",
       "      <td>125906.000000</td>\n",
       "      <td>6.000000</td>\n",
       "      <td>0.946410</td>\n",
       "      <td>67.0</td>\n",
       "    </tr>\n",
       "    <tr>\n",
       "      <th>75%</th>\n",
       "      <td>127931.500000</td>\n",
       "      <td>9.000000</td>\n",
       "      <td>0.999812</td>\n",
       "      <td>67.0</td>\n",
       "    </tr>\n",
       "    <tr>\n",
       "      <th>max</th>\n",
       "      <td>129957.000000</td>\n",
       "      <td>12.000000</td>\n",
       "      <td>1.000000</td>\n",
       "      <td>67.0</td>\n",
       "    </tr>\n",
       "  </tbody>\n",
       "</table>\n",
       "</div>"
      ],
      "text/plain": [
       "                  id          mes  factor_disp_tec_porcentaje  lote_id_log\n",
       "count    8103.000000  8103.000000                 8103.000000       8103.0\n",
       "mean   125906.000000     6.291003                    0.779705         67.0\n",
       "std      2339.278949     3.527090                    0.334617          0.0\n",
       "min    121855.000000     1.000000                    0.000000         67.0\n",
       "25%    123880.500000     3.000000                    0.749833         67.0\n",
       "50%    125906.000000     6.000000                    0.946410         67.0\n",
       "75%    127931.500000     9.000000                    0.999812         67.0\n",
       "max    129957.000000    12.000000                    1.000000         67.0"
      ]
     },
     "execution_count": 7,
     "metadata": {},
     "output_type": "execute_result"
    }
   ],
   "source": [
    "df4.describe()\n"
   ]
  },
  {
   "cell_type": "code",
   "execution_count": 6,
   "metadata": {},
   "outputs": [],
   "source": [
    "\n",
    "\n",
    "# columna \"indice_tiempo\" tiene como tipo de dato \"objeto\", se cambia \"datetime\"\n",
    "df4['indice_tiempo'] = pd.to_datetime(df4['indice_tiempo'], format='%Y-%m')\n",
    "\n"
   ]
  },
  {
   "cell_type": "code",
   "execution_count": 7,
   "metadata": {},
   "outputs": [],
   "source": [
    "# columna \"fecha_proceso\" tiene como tipo de dato \"objeto\", se cambia por \"datatime\"\n",
    "df4['fecha_proceso'] = pd.to_datetime(df4['fecha_proceso'])"
   ]
  },
  {
   "cell_type": "code",
   "execution_count": 8,
   "metadata": {},
   "outputs": [
    {
     "name": "stdout",
     "output_type": "stream",
     "text": [
      "<class 'pandas.core.frame.DataFrame'>\n",
      "RangeIndex: 8103 entries, 0 to 8102\n",
      "Data columns (total 11 columns):\n",
      " #   Column                      Non-Null Count  Dtype         \n",
      "---  ------                      --------------  -----         \n",
      " 0   id                          8103 non-null   int64         \n",
      " 1   mes                         8103 non-null   int64         \n",
      " 2   central                     8103 non-null   object        \n",
      " 3   agente                      8103 non-null   object        \n",
      " 4   descripcion                 8103 non-null   object        \n",
      " 5   tecnologia_descripcion      8103 non-null   object        \n",
      " 6   tecnologia                  8103 non-null   object        \n",
      " 7   factor_disp_tec_porcentaje  8103 non-null   float64       \n",
      " 8   fecha_proceso               8103 non-null   datetime64[ns]\n",
      " 9   lote_id_log                 8103 non-null   int64         \n",
      " 10  indice_tiempo               8103 non-null   datetime64[ns]\n",
      "dtypes: datetime64[ns](2), float64(1), int64(3), object(5)\n",
      "memory usage: 696.5+ KB\n"
     ]
    }
   ],
   "source": [
    "df4.info() #se verifica el cambio"
   ]
  },
  {
   "cell_type": "markdown",
   "metadata": {},
   "source": [
    "### Agrupar por Tecnologias y hacer un gráfico"
   ]
  },
  {
   "cell_type": "code",
   "execution_count": 6,
   "metadata": {},
   "outputs": [
    {
     "name": "stdout",
     "output_type": "stream",
     "text": [
      "  tecnologia_descripcion  cantidades\n",
      "0                 Biogas         242\n",
      "1      Ciclos Combinados         848\n",
      "2           Motor Diesel        3728\n",
      "3                Nuclear         111\n",
      "4          Turbina a gas        2681\n",
      "5             Turbovapor         493\n"
     ]
    }
   ],
   "source": [
    "# Agrupar por la columna \"tecnologia_descripcion\" y contar las cantidades\n",
    "grupotecno = df4.groupby(\"tecnologia_descripcion\").size().reset_index(name=\"cantidades\")\n",
    "\n",
    "# Mostrar el DataFrame agrupado\n",
    "print(grupotecno)\n"
   ]
  },
  {
   "cell_type": "code",
   "execution_count": 11,
   "metadata": {},
   "outputs": [
    {
     "data": {
      "image/png": "[encoded data removed]",
      "text/plain": [
       "<Figure size 1000x600 with 1 Axes>"
      ]
     },
     "metadata": {},
     "output_type": "display_data"
    }
   ],
   "source": [
    "\n",
    "\n",
    "# Datos del DataFrame agrupado\n",
    "tecnologias = grupotecno[\"tecnologia_descripcion\"]\n",
    "cantidad = grupotecno[\"cantidades\"]\n",
    "\n",
    "# Generar colores distintos para cada barra\n",
    "colores = plt.cm.inferno(np.linspace(0, 1, len(tecnologias)))\n",
    "\n",
    "# Crear un gráfico de barras\n",
    "plt.figure(figsize=(10, 6))  # Tamaño del gráfico (ajusta según tus necesidades)\n",
    "plt.bar(tecnologias, cantidad, color=colores)\n",
    "\n",
    "# Etiquetas y título del gráfico\n",
    "plt.xlabel(\"Tecnologías\")\n",
    "plt.ylabel(\"Cantidad\")\n",
    "plt.title(\"Muestra de energia de centrales de Argentina\")\n",
    "\n",
    "# Rotar las etiquetas del eje X para mayor legibilidad\n",
    "plt.xticks(rotation=45, ha=\"right\")\n",
    "\n",
    "# Mostrar el gráfico\n",
    "plt.tight_layout()\n",
    "plt.show()\n"
   ]
  }
 ],
 "metadata": {
  "kernelspec": {
   "display_name": "Python 3",
   "language": "python",
   "name": "python3"
  },
  "language_info": {
   "codemirror_mode": {
    "name": "ipython",
    "version": 3
   },
   "file_extension": ".py",
   "mimetype": "text/x-python",
   "name": "python",
   "nbconvert_exporter": "python",
   "pygments_lexer": "ipython3",
   "version": "3.10.11"
  }
 },
 "nbformat": 4,
 "nbformat_minor": 2
}
