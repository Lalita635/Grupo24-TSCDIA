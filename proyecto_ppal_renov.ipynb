{
 "cells": [
  {
   "cell_type": "markdown",
   "id": "b51b457c",
   "metadata": {},
   "source": [
    "---\n",
    "### <center> Carga de Datos"
   ]
  },
  {
   "cell_type": "code",
   "execution_count": 157,
   "id": "19de6964",
   "metadata": {},
   "outputs": [],
   "source": [
    "import numpy as np\n",
    "import pandas as pd\n",
    "import matplotlib.pyplot as plt\n",
    "import seaborn as sns\n",
    "from sklearn import linear_model\n",
    "from sklearn.linear_model import LinearRegression\n",
    "from sklearn.metrics import mean_squared_error, r2_score\n",
    "from sklearn.model_selection import train_test_split\n",
    "from scipy import stats\n",
    "from scipy.stats import kendalltau\n",
    "from sklearn.preprocessing import StandardScaler, LabelEncoder\n"
   ]
  },
  {
   "cell_type": "code",
   "execution_count": 158,
   "id": "021e9f06",
   "metadata": {
    "scrolled": false
   },
   "outputs": [
    {
     "data": {
      "text/html": [
       "<div>\n",
       "<style scoped>\n",
       "    .dataframe tbody tr th:only-of-type {\n",
       "        vertical-align: middle;\n",
       "    }\n",
       "\n",
       "    .dataframe tbody tr th {\n",
       "        vertical-align: top;\n",
       "    }\n",
       "\n",
       "    .dataframe thead th {\n",
       "        text-align: right;\n",
       "    }\n",
       "</style>\n",
       "<table border=\"1\" class=\"dataframe\">\n",
       "  <thead>\n",
       "    <tr style=\"text-align: right;\">\n",
       "      <th></th>\n",
       "      <th>anio</th>\n",
       "      <th>mes</th>\n",
       "      <th>maquina</th>\n",
       "      <th>central</th>\n",
       "      <th>agente</th>\n",
       "      <th>agente_descripcion</th>\n",
       "      <th>region</th>\n",
       "      <th>pais</th>\n",
       "      <th>tipo_maquina</th>\n",
       "      <th>fuente_generacion</th>\n",
       "      <th>tecnologia</th>\n",
       "      <th>categoria_hidraulica</th>\n",
       "      <th>categoria_region</th>\n",
       "      <th>generacion_neta_MWh</th>\n",
       "      <th>indice_tiempo</th>\n",
       "    </tr>\n",
       "  </thead>\n",
       "  <tbody>\n",
       "    <tr>\n",
       "      <th>0</th>\n",
       "      <td>2012</td>\n",
       "      <td>1</td>\n",
       "      <td>3ARRDI01</td>\n",
       "      <td>3ARR</td>\n",
       "      <td>QUIL3A3A</td>\n",
       "      <td>QUILMES - PLANTA TRES ARROYOS</td>\n",
       "      <td>BUENOS AIRES</td>\n",
       "      <td>Argentina</td>\n",
       "      <td>MOTOR DIESEL</td>\n",
       "      <td>Térmica</td>\n",
       "      <td>DI</td>\n",
       "      <td>NaN</td>\n",
       "      <td>Gba - Litoral - Buenos Aires</td>\n",
       "      <td>0.000</td>\n",
       "      <td>2012-01</td>\n",
       "    </tr>\n",
       "    <tr>\n",
       "      <th>1</th>\n",
       "      <td>2012</td>\n",
       "      <td>1</td>\n",
       "      <td>ACAJTG01</td>\n",
       "      <td>CAPE</td>\n",
       "      <td>CAPEX-QA</td>\n",
       "      <td>CAPEX S.A. AUTOGENERADOR</td>\n",
       "      <td>COMAHUE</td>\n",
       "      <td>Argentina</td>\n",
       "      <td>TURBO GAS</td>\n",
       "      <td>Térmica</td>\n",
       "      <td>CC</td>\n",
       "      <td>NaN</td>\n",
       "      <td>Comahue</td>\n",
       "      <td>21868.984</td>\n",
       "      <td>2012-01</td>\n",
       "    </tr>\n",
       "    <tr>\n",
       "      <th>2</th>\n",
       "      <td>2012</td>\n",
       "      <td>1</td>\n",
       "      <td>ACAJTG02</td>\n",
       "      <td>ACAJ</td>\n",
       "      <td>CAPEXSAG</td>\n",
       "      <td>C.T. AGUA DEL CAJON</td>\n",
       "      <td>COMAHUE</td>\n",
       "      <td>Argentina</td>\n",
       "      <td>TURBO GAS</td>\n",
       "      <td>Térmica</td>\n",
       "      <td>CC</td>\n",
       "      <td>NaN</td>\n",
       "      <td>Comahue</td>\n",
       "      <td>24144.517</td>\n",
       "      <td>2012-01</td>\n",
       "    </tr>\n",
       "    <tr>\n",
       "      <th>3</th>\n",
       "      <td>2012</td>\n",
       "      <td>1</td>\n",
       "      <td>ACAJTG03</td>\n",
       "      <td>ACAJ</td>\n",
       "      <td>CAPEXSAG</td>\n",
       "      <td>C.T. AGUA DEL CAJON</td>\n",
       "      <td>COMAHUE</td>\n",
       "      <td>Argentina</td>\n",
       "      <td>TURBO GAS</td>\n",
       "      <td>Térmica</td>\n",
       "      <td>CC</td>\n",
       "      <td>NaN</td>\n",
       "      <td>Comahue</td>\n",
       "      <td>24259.713</td>\n",
       "      <td>2012-01</td>\n",
       "    </tr>\n",
       "    <tr>\n",
       "      <th>4</th>\n",
       "      <td>2012</td>\n",
       "      <td>1</td>\n",
       "      <td>ACAJTG04</td>\n",
       "      <td>ACAJ</td>\n",
       "      <td>CAPEXSAG</td>\n",
       "      <td>C.T. AGUA DEL CAJON</td>\n",
       "      <td>COMAHUE</td>\n",
       "      <td>Argentina</td>\n",
       "      <td>TURBO GAS</td>\n",
       "      <td>Térmica</td>\n",
       "      <td>CC</td>\n",
       "      <td>NaN</td>\n",
       "      <td>Comahue</td>\n",
       "      <td>26832.135</td>\n",
       "      <td>2012-01</td>\n",
       "    </tr>\n",
       "  </tbody>\n",
       "</table>\n",
       "</div>"
      ],
      "text/plain": [
       "   anio  mes   maquina central    agente             agente_descripcion  \\\n",
       "0  2012    1  3ARRDI01    3ARR  QUIL3A3A  QUILMES - PLANTA TRES ARROYOS   \n",
       "1  2012    1  ACAJTG01    CAPE  CAPEX-QA       CAPEX S.A. AUTOGENERADOR   \n",
       "2  2012    1  ACAJTG02    ACAJ  CAPEXSAG            C.T. AGUA DEL CAJON   \n",
       "3  2012    1  ACAJTG03    ACAJ  CAPEXSAG            C.T. AGUA DEL CAJON   \n",
       "4  2012    1  ACAJTG04    ACAJ  CAPEXSAG            C.T. AGUA DEL CAJON   \n",
       "\n",
       "         region       pais  tipo_maquina fuente_generacion tecnologia  \\\n",
       "0  BUENOS AIRES  Argentina  MOTOR DIESEL           Térmica         DI   \n",
       "1       COMAHUE  Argentina     TURBO GAS           Térmica         CC   \n",
       "2       COMAHUE  Argentina     TURBO GAS           Térmica         CC   \n",
       "3       COMAHUE  Argentina     TURBO GAS           Térmica         CC   \n",
       "4       COMAHUE  Argentina     TURBO GAS           Térmica         CC   \n",
       "\n",
       "  categoria_hidraulica              categoria_region  generacion_neta_MWh  \\\n",
       "0                  NaN  Gba - Litoral - Buenos Aires                0.000   \n",
       "1                  NaN                       Comahue            21868.984   \n",
       "2                  NaN                       Comahue            24144.517   \n",
       "3                  NaN                       Comahue            24259.713   \n",
       "4                  NaN                       Comahue            26832.135   \n",
       "\n",
       "  indice_tiempo  \n",
       "0       2012-01  \n",
       "1       2012-01  \n",
       "2       2012-01  \n",
       "3       2012-01  \n",
       "4       2012-01  "
      ]
     },
     "execution_count": 158,
     "metadata": {},
     "output_type": "execute_result"
    }
   ],
   "source": [
    "# Carga y visualización parcial de Datos:\n",
    "df_ori = pd.read_csv('datasets/generacin-histrica.csv')\n",
    "df_ori.head(5)"
   ]
  },
  {
   "cell_type": "markdown",
   "id": "7b54d95a",
   "metadata": {},
   "source": [
    "---\n",
    "### <center> Preparación de Datos"
   ]
  },
  {
   "cell_type": "code",
   "execution_count": 159,
   "id": "d093854b",
   "metadata": {},
   "outputs": [
    {
     "name": "stdout",
     "output_type": "stream",
     "text": [
      "<class 'pandas.core.frame.DataFrame'>\n",
      "RangeIndex: 91543 entries, 0 to 91542\n",
      "Data columns (total 15 columns):\n",
      " #   Column                Non-Null Count  Dtype  \n",
      "---  ------                --------------  -----  \n",
      " 0   anio                  91543 non-null  int64  \n",
      " 1   mes                   91543 non-null  int64  \n",
      " 2   maquina               91543 non-null  object \n",
      " 3   central               91543 non-null  object \n",
      " 4   agente                91543 non-null  object \n",
      " 5   agente_descripcion    91543 non-null  object \n",
      " 6   region                91543 non-null  object \n",
      " 7   pais                  91543 non-null  object \n",
      " 8   tipo_maquina          91543 non-null  object \n",
      " 9   fuente_generacion     91543 non-null  object \n",
      " 10  tecnologia            91543 non-null  object \n",
      " 11  categoria_hidraulica  9349 non-null   object \n",
      " 12  categoria_region      91543 non-null  object \n",
      " 13  generacion_neta_MWh   91543 non-null  float64\n",
      " 14  indice_tiempo         91543 non-null  object \n",
      "dtypes: float64(1), int64(2), object(12)\n",
      "memory usage: 10.5+ MB\n"
     ]
    }
   ],
   "source": [
    "df_ori.info()"
   ]
  },
  {
   "cell_type": "code",
   "execution_count": 160,
   "id": "b025f289",
   "metadata": {},
   "outputs": [
    {
     "data": {
      "text/plain": [
       "False    91543\n",
       "dtype: int64"
      ]
     },
     "execution_count": 160,
     "metadata": {},
     "output_type": "execute_result"
    }
   ],
   "source": [
    "# Chequeo de registros duplicados:\n",
    "df_ori.duplicated().value_counts()"
   ]
  },
  {
   "cell_type": "markdown",
   "id": "698e66f3",
   "metadata": {},
   "source": [
    "Observamos que el DataFrame posee 91543 registros, y que cada columna posee la misma cantidad de objetos no nulos (ni *'Nan'* ni *'None'*) a excepción de *'categoria_hidraulica'*, aunque esta es una columna no significativa para nuestro análisis. Además, no existen registros duplicados."
   ]
  },
  {
   "cell_type": "code",
   "execution_count": 161,
   "id": "de661bd0",
   "metadata": {},
   "outputs": [],
   "source": [
    "# Eliminamos la columna 'categoria_hidraulica':\n",
    "df_ori.drop(['categoria_hidraulica'], axis=1, inplace=True)"
   ]
  },
  {
   "cell_type": "code",
   "execution_count": 81,
   "id": "ebe55a91",
   "metadata": {},
   "outputs": [
    {
     "data": {
      "text/plain": [
       "Argentina      91541\n",
       "(en blanco)        1\n",
       "Paraguay           1\n",
       "Name: pais, dtype: int64"
      ]
     },
     "execution_count": 81,
     "metadata": {},
     "output_type": "execute_result"
    }
   ],
   "source": [
    "# Chequeo de países presentes:\n",
    "df_ori['pais'].value_counts()"
   ]
  },
  {
   "cell_type": "code",
   "execution_count": 162,
   "id": "65e5beed",
   "metadata": {},
   "outputs": [
    {
     "data": {
      "text/plain": [
       "Argentina    91541\n",
       "Name: pais, dtype: int64"
      ]
     },
     "execution_count": 162,
     "metadata": {},
     "output_type": "execute_result"
    }
   ],
   "source": [
    "# Redefinimos el dataset, conservando sólamente los registros válidos para Argentina:\n",
    "df_ori = df_ori[df_ori['pais'] == \"Argentina\"]\n",
    "df_ori['pais'].value_counts()"
   ]
  },
  {
   "cell_type": "code",
   "execution_count": 6,
   "id": "e42f321d",
   "metadata": {},
   "outputs": [],
   "source": [
    "# Como hemos eliminado registros, reseteamos los índices del DataFrame:\n",
    "df_ori.set_index((i for i in range(len(df_ori))), inplace=True)"
   ]
  },
  {
   "cell_type": "code",
   "execution_count": 163,
   "id": "47d3ae0d",
   "metadata": {},
   "outputs": [
    {
     "name": "stdout",
     "output_type": "stream",
     "text": [
      "<class 'pandas.core.frame.DataFrame'>\n",
      "Int64Index: 91541 entries, 0 to 91542\n",
      "Data columns (total 14 columns):\n",
      " #   Column               Non-Null Count  Dtype  \n",
      "---  ------               --------------  -----  \n",
      " 0   anio                 91541 non-null  int64  \n",
      " 1   mes                  91541 non-null  int64  \n",
      " 2   maquina              91541 non-null  object \n",
      " 3   central              91541 non-null  object \n",
      " 4   agente               91541 non-null  object \n",
      " 5   agente_descripcion   91541 non-null  object \n",
      " 6   region               91541 non-null  object \n",
      " 7   pais                 91541 non-null  object \n",
      " 8   tipo_maquina         91541 non-null  object \n",
      " 9   fuente_generacion    91541 non-null  object \n",
      " 10  tecnologia           91541 non-null  object \n",
      " 11  categoria_region     91541 non-null  object \n",
      " 12  generacion_neta_MWh  91541 non-null  float64\n",
      " 13  indice_tiempo        91541 non-null  object \n",
      "dtypes: float64(1), int64(2), object(11)\n",
      "memory usage: 10.5+ MB\n"
     ]
    }
   ],
   "source": [
    "# Información actualizada:\n",
    "df_ori.info()"
   ]
  },
  {
   "cell_type": "markdown",
   "id": "53d3798c",
   "metadata": {},
   "source": [
    "El DataFrame consta de 91541 registros, sin inconsistencias, valores no nulos ni duplicados. Todos los registros son pertenecientes a la Argentina."
   ]
  },
  {
   "cell_type": "markdown",
   "id": "56f87ee7",
   "metadata": {},
   "source": [
    "---\n",
    "### <center> Análisis exploratorio de Datos"
   ]
  },
  {
   "cell_type": "markdown",
   "id": "cfdbe902",
   "metadata": {},
   "source": [
    "Al consultar las **'fuentes_generacion'**, observamos que existen varias clasificaciones para las tecnologías no renovables (Térmica, Hidráulica y Nuclear):"
   ]
  },
  {
   "cell_type": "code",
   "execution_count": 84,
   "id": "866c45b4",
   "metadata": {},
   "outputs": [
    {
     "data": {
      "text/plain": [
       "Térmica       78568\n",
       "Renovable      6469\n",
       "Hidráulica     6230\n",
       "Nuclear         274\n",
       "Name: fuente_generacion, dtype: int64"
      ]
     },
     "execution_count": 84,
     "metadata": {},
     "output_type": "execute_result"
    }
   ],
   "source": [
    "df_ori['fuente_generacion'].value_counts()"
   ]
  },
  {
   "cell_type": "code",
   "execution_count": 98,
   "id": "4de5b9be",
   "metadata": {},
   "outputs": [
    {
     "data": {
      "text/plain": [
       "DI      53765\n",
       "TG      13977\n",
       "CC       6288\n",
       "HR       5477\n",
       "TV       4620\n",
       "HID      3871\n",
       "EOL      1250\n",
       "SOL       813\n",
       "BIOM      664\n",
       "BIOG      443\n",
       "NUC       274\n",
       "MHID       99\n",
       "Name: tecnologia, dtype: int64"
      ]
     },
     "execution_count": 98,
     "metadata": {},
     "output_type": "execute_result"
    }
   ],
   "source": [
    "# Analizamos los Tipos de tecnología disponibles:\n",
    "df_ori['tecnologia'].value_counts()"
   ]
  },
  {
   "cell_type": "markdown",
   "id": "cbbcfc35",
   "metadata": {},
   "source": [
    "Estas Tecnologías se corresponden con las siguientes descripciones:\n",
    "\n",
    "**No Renovables:**\n",
    "\n",
    "* DI: Diesel\n",
    "* TG: Turbo Gas\n",
    "* CC: Ciclos Combinados\n",
    "* HID: Hidroeléctrica\n",
    "* NUC: Nuclear\n",
    "\n",
    "\n",
    "**Renovables:**\n",
    "\n",
    "* HR: Resto Hidráulico\n",
    "* TV: Turbo Vapor\n",
    "* EOL: Eólica\n",
    "* SOL: Solar\n",
    "* BIOM: Biomasa\n",
    "* BIOG: Biogas\n",
    "* MHID: Microhidráulica"
   ]
  },
  {
   "cell_type": "code",
   "execution_count": 99,
   "id": "e3a16304",
   "metadata": {},
   "outputs": [
    {
     "data": {
      "text/plain": [
       "HR      3118\n",
       "EOL     1250\n",
       "SOL      813\n",
       "BIOM     664\n",
       "BIOG     443\n",
       "MHID      99\n",
       "TV        82\n",
       "Name: tecnologia, dtype: int64"
      ]
     },
     "execution_count": 99,
     "metadata": {},
     "output_type": "execute_result"
    }
   ],
   "source": [
    "# Corroboramos esta clasificación, consultando aquellas consideradas 'Renovables':\n",
    "df_ori[df_ori['fuente_generacion'] == \"Renovable\"]['tecnologia'].value_counts()"
   ]
  },
  {
   "cell_type": "markdown",
   "id": "355c57e4",
   "metadata": {},
   "source": [
    "Como la columna **'fuente_generacion'** posee varias clasificaciones según el origen de las fuentes no renovables, agrupamos estas clasificaciones y agregamos una columna **'renovable'** con valores booleanos que indique claramente si la producción es renovable o no:"
   ]
  },
  {
   "cell_type": "code",
   "execution_count": 167,
   "id": "80e35287",
   "metadata": {},
   "outputs": [],
   "source": [
    "df_ori['tipo_maquina'].unique()\n",
    "\n",
    "# Cambiar todas las filas donde tipo_maquina = 'HIDRAULICA <=50' por 'HIDRAULICA MENOR 50' por problemas de conversión\n",
    "df_ori.loc[df_ori['tipo_maquina'] == 'HIDRAULICA <=50', 'tipo_maquina'] = 'HIDRAULICA MENOR 50'\n",
    "\n",
    "# muestra las filas que contienen \n",
    "# print(df_ori[df_ori['tipo_maquina'].str.contains('HIDRAULICA <=50')])"
   ]
  },
  {
   "cell_type": "code",
   "execution_count": 123,
   "id": "a2b0672f",
   "metadata": {},
   "outputs": [
    {
     "data": {
      "text/html": [
       "<div>\n",
       "<style scoped>\n",
       "    .dataframe tbody tr th:only-of-type {\n",
       "        vertical-align: middle;\n",
       "    }\n",
       "\n",
       "    .dataframe tbody tr th {\n",
       "        vertical-align: top;\n",
       "    }\n",
       "\n",
       "    .dataframe thead th {\n",
       "        text-align: right;\n",
       "    }\n",
       "</style>\n",
       "<table border=\"1\" class=\"dataframe\">\n",
       "  <thead>\n",
       "    <tr style=\"text-align: right;\">\n",
       "      <th></th>\n",
       "      <th>anio</th>\n",
       "      <th>mes</th>\n",
       "      <th>maquina</th>\n",
       "      <th>central</th>\n",
       "      <th>agente</th>\n",
       "      <th>agente_descripcion</th>\n",
       "      <th>region</th>\n",
       "      <th>pais</th>\n",
       "      <th>tipo_maquina</th>\n",
       "      <th>fuente_generacion</th>\n",
       "      <th>tecnologia</th>\n",
       "      <th>categoria_region</th>\n",
       "      <th>generacion_neta_MWh</th>\n",
       "      <th>indice_tiempo</th>\n",
       "    </tr>\n",
       "  </thead>\n",
       "  <tbody>\n",
       "    <tr>\n",
       "      <th>20</th>\n",
       "      <td>2012</td>\n",
       "      <td>1</td>\n",
       "      <td>ARAUEO</td>\n",
       "      <td>ARAUEO</td>\n",
       "      <td>PEARAUCG</td>\n",
       "      <td>PARQUE EOLICO ARAUCO SAPEM</td>\n",
       "      <td>NOROESTE</td>\n",
       "      <td>Argentina</td>\n",
       "      <td>EOLICA</td>\n",
       "      <td>Renovable</td>\n",
       "      <td>EOL</td>\n",
       "      <td>Noa</td>\n",
       "      <td>844.759</td>\n",
       "      <td>2012-01</td>\n",
       "    </tr>\n",
       "    <tr>\n",
       "      <th>212</th>\n",
       "      <td>2012</td>\n",
       "      <td>1</td>\n",
       "      <td>DIADEO</td>\n",
       "      <td>DIADEO</td>\n",
       "      <td>HYCHICOG</td>\n",
       "      <td>HYCHICO P. EOLICO DIADEMA</td>\n",
       "      <td>PATAGONICA</td>\n",
       "      <td>Argentina</td>\n",
       "      <td>EOLICA</td>\n",
       "      <td>Renovable</td>\n",
       "      <td>EOL</td>\n",
       "      <td>Patagonia</td>\n",
       "      <td>2034.575</td>\n",
       "      <td>2012-01</td>\n",
       "    </tr>\n",
       "    <tr>\n",
       "      <th>483</th>\n",
       "      <td>2012</td>\n",
       "      <td>1</td>\n",
       "      <td>ISBATV01</td>\n",
       "      <td>ISBA</td>\n",
       "      <td>AZUCTETA</td>\n",
       "      <td>AZUCARERA JUAN M.TERAN SA</td>\n",
       "      <td>NOROESTE</td>\n",
       "      <td>Argentina</td>\n",
       "      <td>TURBO VAPOR</td>\n",
       "      <td>Renovable</td>\n",
       "      <td>BIOM</td>\n",
       "      <td>Noa</td>\n",
       "      <td>0.000</td>\n",
       "      <td>2012-01</td>\n",
       "    </tr>\n",
       "    <tr>\n",
       "      <th>653</th>\n",
       "      <td>2012</td>\n",
       "      <td>1</td>\n",
       "      <td>NECOEO</td>\n",
       "      <td>NECOEO</td>\n",
       "      <td>SEAENERG</td>\n",
       "      <td>SEA ENERGY PARQUE EOLICO</td>\n",
       "      <td>BUENOS AIRES</td>\n",
       "      <td>Argentina</td>\n",
       "      <td>EOLICA</td>\n",
       "      <td>Renovable</td>\n",
       "      <td>EOL</td>\n",
       "      <td>Gba - Litoral - Buenos Aires</td>\n",
       "      <td>18.659</td>\n",
       "      <td>2012-01</td>\n",
       "    </tr>\n",
       "    <tr>\n",
       "      <th>760</th>\n",
       "      <td>2012</td>\n",
       "      <td>1</td>\n",
       "      <td>PUPITV01</td>\n",
       "      <td>PUPI</td>\n",
       "      <td>APARPPNA</td>\n",
       "      <td>ALTO PARANA-PTO.PIRAY</td>\n",
       "      <td>NORESTE</td>\n",
       "      <td>Argentina</td>\n",
       "      <td>TURBO VAPOR</td>\n",
       "      <td>Renovable</td>\n",
       "      <td>BIOM</td>\n",
       "      <td>Nea</td>\n",
       "      <td>1828.022</td>\n",
       "      <td>2012-01</td>\n",
       "    </tr>\n",
       "    <tr>\n",
       "      <th>...</th>\n",
       "      <td>...</td>\n",
       "      <td>...</td>\n",
       "      <td>...</td>\n",
       "      <td>...</td>\n",
       "      <td>...</td>\n",
       "      <td>...</td>\n",
       "      <td>...</td>\n",
       "      <td>...</td>\n",
       "      <td>...</td>\n",
       "      <td>...</td>\n",
       "      <td>...</td>\n",
       "      <td>...</td>\n",
       "      <td>...</td>\n",
       "      <td>...</td>\n",
       "    </tr>\n",
       "    <tr>\n",
       "      <th>91510</th>\n",
       "      <td>2020</td>\n",
       "      <td>2</td>\n",
       "      <td>ULN1FV</td>\n",
       "      <td>ULN1FV</td>\n",
       "      <td>PSULLU1G</td>\n",
       "      <td>PQUE SOLAR ULLUM 1</td>\n",
       "      <td>CUYO</td>\n",
       "      <td>Argentina</td>\n",
       "      <td>FOTOVOLTAICA</td>\n",
       "      <td>Renovable</td>\n",
       "      <td>SOL</td>\n",
       "      <td>Cuyo</td>\n",
       "      <td>5779.081</td>\n",
       "      <td>2020-02</td>\n",
       "    </tr>\n",
       "    <tr>\n",
       "      <th>91511</th>\n",
       "      <td>2020</td>\n",
       "      <td>2</td>\n",
       "      <td>ULN2FV</td>\n",
       "      <td>ULN2FV</td>\n",
       "      <td>PSULLU2G</td>\n",
       "      <td>PQUE SOLAR ULLUM 2</td>\n",
       "      <td>CUYO</td>\n",
       "      <td>Argentina</td>\n",
       "      <td>FOTOVOLTAICA</td>\n",
       "      <td>Renovable</td>\n",
       "      <td>SOL</td>\n",
       "      <td>Cuyo</td>\n",
       "      <td>5993.749</td>\n",
       "      <td>2020-02</td>\n",
       "    </tr>\n",
       "    <tr>\n",
       "      <th>91519</th>\n",
       "      <td>2020</td>\n",
       "      <td>2</td>\n",
       "      <td>VLO2EO</td>\n",
       "      <td>VLO2EO</td>\n",
       "      <td>GENNEIAG</td>\n",
       "      <td>GENNEIA S.A.EOLICOS</td>\n",
       "      <td>BUENOS AIRES</td>\n",
       "      <td>Argentina</td>\n",
       "      <td>EOLICA</td>\n",
       "      <td>Renovable</td>\n",
       "      <td>EOL</td>\n",
       "      <td>Gba - Litoral - Buenos Aires</td>\n",
       "      <td>1171.872</td>\n",
       "      <td>2020-02</td>\n",
       "    </tr>\n",
       "    <tr>\n",
       "      <th>91520</th>\n",
       "      <td>2020</td>\n",
       "      <td>2</td>\n",
       "      <td>VLONEO</td>\n",
       "      <td>VLONEO</td>\n",
       "      <td>PEVILLAG</td>\n",
       "      <td>P.EOLICO VILLALONGA</td>\n",
       "      <td>BUENOS AIRES</td>\n",
       "      <td>Argentina</td>\n",
       "      <td>EOLICA</td>\n",
       "      <td>Renovable</td>\n",
       "      <td>EOL</td>\n",
       "      <td>Gba - Litoral - Buenos Aires</td>\n",
       "      <td>18407.240</td>\n",
       "      <td>2020-02</td>\n",
       "    </tr>\n",
       "    <tr>\n",
       "      <th>91533</th>\n",
       "      <td>2020</td>\n",
       "      <td>2</td>\n",
       "      <td>YANQDI01</td>\n",
       "      <td>YANQ</td>\n",
       "      <td>YANQUETG</td>\n",
       "      <td>BIO ENERGÍA YANQUETRUZ S.A.</td>\n",
       "      <td>CENTRO</td>\n",
       "      <td>Argentina</td>\n",
       "      <td>BIOGAS</td>\n",
       "      <td>Renovable</td>\n",
       "      <td>BIOG</td>\n",
       "      <td>Centro</td>\n",
       "      <td>437.816</td>\n",
       "      <td>2020-02</td>\n",
       "    </tr>\n",
       "  </tbody>\n",
       "</table>\n",
       "<p>6469 rows × 14 columns</p>\n",
       "</div>"
      ],
      "text/plain": [
       "       anio  mes   maquina central    agente           agente_descripcion  \\\n",
       "20     2012    1    ARAUEO  ARAUEO  PEARAUCG   PARQUE EOLICO ARAUCO SAPEM   \n",
       "212    2012    1    DIADEO  DIADEO  HYCHICOG    HYCHICO P. EOLICO DIADEMA   \n",
       "483    2012    1  ISBATV01    ISBA  AZUCTETA    AZUCARERA JUAN M.TERAN SA   \n",
       "653    2012    1    NECOEO  NECOEO  SEAENERG     SEA ENERGY PARQUE EOLICO   \n",
       "760    2012    1  PUPITV01    PUPI  APARPPNA        ALTO PARANA-PTO.PIRAY   \n",
       "...     ...  ...       ...     ...       ...                          ...   \n",
       "91510  2020    2    ULN1FV  ULN1FV  PSULLU1G           PQUE SOLAR ULLUM 1   \n",
       "91511  2020    2    ULN2FV  ULN2FV  PSULLU2G           PQUE SOLAR ULLUM 2   \n",
       "91519  2020    2    VLO2EO  VLO2EO  GENNEIAG          GENNEIA S.A.EOLICOS   \n",
       "91520  2020    2    VLONEO  VLONEO  PEVILLAG          P.EOLICO VILLALONGA   \n",
       "91533  2020    2  YANQDI01    YANQ  YANQUETG  BIO ENERGÍA YANQUETRUZ S.A.   \n",
       "\n",
       "             region       pais  tipo_maquina fuente_generacion tecnologia  \\\n",
       "20         NOROESTE  Argentina        EOLICA         Renovable        EOL   \n",
       "212      PATAGONICA  Argentina        EOLICA         Renovable        EOL   \n",
       "483        NOROESTE  Argentina   TURBO VAPOR         Renovable       BIOM   \n",
       "653    BUENOS AIRES  Argentina        EOLICA         Renovable        EOL   \n",
       "760         NORESTE  Argentina   TURBO VAPOR         Renovable       BIOM   \n",
       "...             ...        ...           ...               ...        ...   \n",
       "91510          CUYO  Argentina  FOTOVOLTAICA         Renovable        SOL   \n",
       "91511          CUYO  Argentina  FOTOVOLTAICA         Renovable        SOL   \n",
       "91519  BUENOS AIRES  Argentina        EOLICA         Renovable        EOL   \n",
       "91520  BUENOS AIRES  Argentina        EOLICA         Renovable        EOL   \n",
       "91533        CENTRO  Argentina        BIOGAS         Renovable       BIOG   \n",
       "\n",
       "                   categoria_region  generacion_neta_MWh indice_tiempo  \n",
       "20                              Noa              844.759       2012-01  \n",
       "212                       Patagonia             2034.575       2012-01  \n",
       "483                             Noa                0.000       2012-01  \n",
       "653    Gba - Litoral - Buenos Aires               18.659       2012-01  \n",
       "760                             Nea             1828.022       2012-01  \n",
       "...                             ...                  ...           ...  \n",
       "91510                          Cuyo             5779.081       2020-02  \n",
       "91511                          Cuyo             5993.749       2020-02  \n",
       "91519  Gba - Litoral - Buenos Aires             1171.872       2020-02  \n",
       "91520  Gba - Litoral - Buenos Aires            18407.240       2020-02  \n",
       "91533                        Centro              437.816       2020-02  \n",
       "\n",
       "[6469 rows x 14 columns]"
      ]
     },
     "execution_count": 123,
     "metadata": {},
     "output_type": "execute_result"
    }
   ],
   "source": [
    "# Nuestro estudio de interés son las filas relacionadas a fuente_generacion = Renovable\n",
    "filas_sel = []\n",
    "\n",
    "for i, fila in df_ori.iterrows():\n",
    "    if df_ori['fuente_generacion'][i] == 'Renovable':\n",
    "        filas_sel.append(fila)\n",
    "\n",
    "# Convierte las filas seleccionadas en un nuevo DataFrame\n",
    "df_renov = pd.DataFrame(filas_sel)\n",
    "df_renov"
   ]
  },
  {
   "cell_type": "code",
   "execution_count": 155,
   "id": "4d9501ee",
   "metadata": {},
   "outputs": [],
   "source": [
    "# Generar nuevo dataframe con columnas de interés\n",
    "\n",
    "df = df_renov.iloc[:,[0,1,8,10,12]]\n",
    "df = df.rename(columns={'anio': 'anio',\n",
    "                         'mes': 'mes',\n",
    "                'tipo_maquina': 'tipo_maquina',\n",
    "                  'tecnologia': 'tecnologia',\n",
    "            'categoria_region':'categoria_region',\n",
    "         'generacion_neta_MWh': 'generacion_neta_MWh'})"
   ]
  },
  {
   "cell_type": "code",
   "execution_count": 125,
   "id": "39ae2efb",
   "metadata": {},
   "outputs": [
    {
     "data": {
      "text/plain": [
       "tecnologia\n",
       "BIOG     1101.890268\n",
       "BIOM     2431.589956\n",
       "EOL     11954.536689\n",
       "HR      11389.862697\n",
       "MHID        6.782197\n",
       "SOL      1199.223047\n",
       "TV          2.489377\n",
       "Name: generacion_neta_MWh, dtype: float64"
      ]
     },
     "execution_count": 125,
     "metadata": {},
     "output_type": "execute_result"
    }
   ],
   "source": [
    "# Agrupo para calcular matriz de correlacion\n",
    "\n",
    "renov_tecn = df['tecnologia'].unique()\n",
    "renov_cant = df['tecnologia'].value_counts()\n",
    "renov_ener = (df.groupby('tecnologia')['generacion_neta_MWh'].sum())/1000\n",
    "\n",
    "renov_ener"
   ]
  },
  {
   "cell_type": "code",
   "execution_count": 126,
   "id": "644b0d53",
   "metadata": {},
   "outputs": [],
   "source": [
    "# Calculo el total general de los datos\n",
    "renov_tecn_tot = 'TOT'\n",
    "renov_cant_tot = len(df)\n",
    "renov_ener_tot = (df['generacion_neta_MWh'].sum())/1000\n",
    "\n",
    "# Agregar el total a la agrupacion a la ultima posicion\n",
    "renov_tecn = np.append(renov_tecn, renov_tecn_tot)\n",
    "renov_cant = np.append(renov_cant, renov_cant_tot)\n",
    "renov_ener = np.append(renov_ener, renov_ener_tot)\n"
   ]
  },
  {
   "cell_type": "code",
   "execution_count": 127,
   "id": "daf4d774",
   "metadata": {},
   "outputs": [
    {
     "name": "stdout",
     "output_type": "stream",
     "text": [
      "  tecnologia  cantidad       energia         total\n",
      "0        EOL      3118   1101.890268  28086.374231\n",
      "1       BIOM      1250   2431.589956  28086.374231\n",
      "2       MHID       813  11954.536689  28086.374231\n",
      "3        SOL       664  11389.862697  28086.374231\n",
      "4       BIOG       443      6.782197  28086.374231\n",
      "5         HR        99   1199.223047  28086.374231\n",
      "6         TV        82      2.489377  28086.374231\n",
      "7        TOT      6469  28086.374231  28086.374231\n"
     ]
    }
   ],
   "source": [
    "#Agrupacion para calcular matriz de correlacion\n",
    "data = {\n",
    "    'tecnologia': renov_tecn,\n",
    "      'cantidad': renov_cant,\n",
    "       'energia': renov_ener,\n",
    "         'total': renov_ener_tot \n",
    "}\n",
    "\n",
    "data_agrupada = pd.DataFrame(data)\n",
    "print(data_agrupada)\n"
   ]
  },
  {
   "cell_type": "code",
   "execution_count": 128,
   "id": "8dac6e5f",
   "metadata": {},
   "outputs": [
    {
     "name": "stdout",
     "output_type": "stream",
     "text": [
      "Matriz de Correlación:\n",
      "          cantidad   energia\n",
      "cantidad  1.000000  0.762308\n",
      "energia   0.762308  1.000000\n"
     ]
    }
   ],
   "source": [
    "# Calculamos matriz de correlacion de todo el conjunto de datos\n",
    "matriz_correlacion = data_agrupada[['cantidad', 'energia']].corr()\n",
    "\n",
    "# Imprime la matriz de correlación\n",
    "print(\"Matriz de Correlación:\")\n",
    "print(matriz_correlacion)\n"
   ]
  },
  {
   "cell_type": "code",
   "execution_count": 68,
   "id": "2a81e7ab",
   "metadata": {},
   "outputs": [
    {
     "name": "stdout",
     "output_type": "stream",
     "text": [
      "          cantidad  energia  total Tecnologia\n",
      "cantidad       NaN      NaN    NaN        EOL\n",
      "energia        NaN      NaN    NaN        EOL\n",
      "total          NaN      NaN    NaN        EOL\n",
      "cantidad       NaN      NaN    NaN       BIOM\n",
      "energia        NaN      NaN    NaN       BIOM\n",
      "total          NaN      NaN    NaN       BIOM\n",
      "cantidad       NaN      NaN    NaN       MHID\n",
      "energia        NaN      NaN    NaN       MHID\n",
      "total          NaN      NaN    NaN       MHID\n",
      "cantidad       NaN      NaN    NaN        SOL\n",
      "energia        NaN      NaN    NaN        SOL\n",
      "total          NaN      NaN    NaN        SOL\n",
      "cantidad       NaN      NaN    NaN       BIOG\n",
      "energia        NaN      NaN    NaN       BIOG\n",
      "total          NaN      NaN    NaN       BIOG\n",
      "cantidad       NaN      NaN    NaN         HR\n",
      "energia        NaN      NaN    NaN         HR\n",
      "total          NaN      NaN    NaN         HR\n",
      "cantidad       NaN      NaN    NaN         TV\n",
      "energia        NaN      NaN    NaN         TV\n",
      "total          NaN      NaN    NaN         TV\n",
      "cantidad       NaN      NaN    NaN        TOT\n",
      "energia        NaN      NaN    NaN        TOT\n",
      "total          NaN      NaN    NaN        TOT\n"
     ]
    }
   ],
   "source": [
    "# Seleccionar las columnas de interés\n",
    "columnas_relevantes = ['tecnologia', 'cantidad', 'energia', 'total']\n",
    "\n",
    "# Crear un DataFrame vacío para almacenar los resultados de correlación\n",
    "resultados_correlacion = []\n",
    "\n",
    "# Obtener la lista única de tecnologías\n",
    "tecnologias_unicas = data_agrupada['tecnologia'].unique()\n",
    "\n",
    "# Calcular la matriz de correlación para cada combinación de tecnología y variables\n",
    "for tecnologia in tecnologias_unicas:\n",
    "    datos_tecnologia = data_agrupada[data_agrupada['tecnologia'] == tecnologia]\n",
    "    correlacion = datos_tecnologia[['cantidad', 'energia', 'total']].corr()\n",
    "    \n",
    "    # Agregar información de tecnología a la matriz de correlación\n",
    "    correlacion['Tecnologia'] = tecnologia\n",
    "    resultados_correlacion.append(correlacion)\n",
    "\n",
    "# Concatenar los resultados en un solo DataFrame\n",
    "resultado_final = pd.concat(resultados_correlacion)\n",
    "\n",
    "# Imprimir el DataFrame con la matriz de correlación\n",
    "print(resultado_final)\n"
   ]
  },
  {
   "cell_type": "code",
   "execution_count": 129,
   "id": "a9a23cdf",
   "metadata": {},
   "outputs": [
    {
     "data": {
      "text/html": [
       "<div>\n",
       "<style scoped>\n",
       "    .dataframe tbody tr th:only-of-type {\n",
       "        vertical-align: middle;\n",
       "    }\n",
       "\n",
       "    .dataframe tbody tr th {\n",
       "        vertical-align: top;\n",
       "    }\n",
       "\n",
       "    .dataframe thead th {\n",
       "        text-align: right;\n",
       "    }\n",
       "</style>\n",
       "<table border=\"1\" class=\"dataframe\">\n",
       "  <thead>\n",
       "    <tr style=\"text-align: right;\">\n",
       "      <th></th>\n",
       "      <th>cantidad</th>\n",
       "      <th>energia</th>\n",
       "      <th>total</th>\n",
       "    </tr>\n",
       "  </thead>\n",
       "  <tbody>\n",
       "    <tr>\n",
       "      <th>count</th>\n",
       "      <td>8.000000</td>\n",
       "      <td>8.000000</td>\n",
       "      <td>8.000000</td>\n",
       "    </tr>\n",
       "    <tr>\n",
       "      <th>mean</th>\n",
       "      <td>1617.250000</td>\n",
       "      <td>7021.593558</td>\n",
       "      <td>28086.374231</td>\n",
       "    </tr>\n",
       "    <tr>\n",
       "      <th>std</th>\n",
       "      <td>2188.379815</td>\n",
       "      <td>9824.365544</td>\n",
       "      <td>0.000000</td>\n",
       "    </tr>\n",
       "    <tr>\n",
       "      <th>min</th>\n",
       "      <td>82.000000</td>\n",
       "      <td>2.489377</td>\n",
       "      <td>28086.374231</td>\n",
       "    </tr>\n",
       "    <tr>\n",
       "      <th>25%</th>\n",
       "      <td>357.000000</td>\n",
       "      <td>828.113250</td>\n",
       "      <td>28086.374231</td>\n",
       "    </tr>\n",
       "    <tr>\n",
       "      <th>50%</th>\n",
       "      <td>738.500000</td>\n",
       "      <td>1815.406502</td>\n",
       "      <td>28086.374231</td>\n",
       "    </tr>\n",
       "    <tr>\n",
       "      <th>75%</th>\n",
       "      <td>1717.000000</td>\n",
       "      <td>11531.031195</td>\n",
       "      <td>28086.374231</td>\n",
       "    </tr>\n",
       "    <tr>\n",
       "      <th>max</th>\n",
       "      <td>6469.000000</td>\n",
       "      <td>28086.374231</td>\n",
       "      <td>28086.374231</td>\n",
       "    </tr>\n",
       "  </tbody>\n",
       "</table>\n",
       "</div>"
      ],
      "text/plain": [
       "          cantidad       energia         total\n",
       "count     8.000000      8.000000      8.000000\n",
       "mean   1617.250000   7021.593558  28086.374231\n",
       "std    2188.379815   9824.365544      0.000000\n",
       "min      82.000000      2.489377  28086.374231\n",
       "25%     357.000000    828.113250  28086.374231\n",
       "50%     738.500000   1815.406502  28086.374231\n",
       "75%    1717.000000  11531.031195  28086.374231\n",
       "max    6469.000000  28086.374231  28086.374231"
      ]
     },
     "execution_count": 129,
     "metadata": {},
     "output_type": "execute_result"
    }
   ],
   "source": [
    "# Resumen de los datos estadísticos de energía renovable por tipo de tecnologia.\n",
    "# Cinco medidas descriptivas de los datos: el primer cuartil (Q1), la mediana (Q2), el tercer cuartil (Q3),\n",
    "# el valor máximo, y el valor mínimo\n",
    "data_agrupada.describe()\n"
   ]
  },
  {
   "cell_type": "code",
   "execution_count": 110,
   "id": "9a304146",
   "metadata": {},
   "outputs": [
    {
     "data": {
      "image/png": "[encoded data removed]",
      "text/plain": [
       "<Figure size 1000x600 with 1 Axes>"
      ]
     },
     "metadata": {},
     "output_type": "display_data"
    }
   ],
   "source": [
    "renov = df.groupby('tecnologia')['generacion_neta_MWh'].sum().reset_index()\n",
    "#df.set_index((i for i in range(len(df))), inplace=True\n",
    "renov = df.reset_index()\n",
    "# Gráfico de Generación por tipo de energia renovable\n",
    "\n",
    "plt.figure(figsize=(10, 6))\n",
    "palette = sns.color_palette() \n",
    "plt.bar(renov['tecnologia'], renov['generacion_neta_MWh'], color=palette)\n",
    "plt.xlabel('Tecnología energías renovables')\n",
    "plt.ylabel('Generación en TWh')\n",
    "plt.title('Generación por tipo de tecnología de energía renovable en el país')\n",
    "\n",
    "plt.show()"
   ]
  },
  {
   "cell_type": "code",
   "execution_count": 172,
   "id": "0ccaea6b",
   "metadata": {},
   "outputs": [
    {
     "data": {
      "image/png": "[encoded data removed]",
      "text/plain": [
       "<Figure size 640x480 with 1 Axes>"
      ]
     },
     "metadata": {},
     "output_type": "display_data"
    }
   ],
   "source": [
    "# Gráfico caja de bigotes\n",
    "datos = [renov_cant, renov_ener]  \n",
    "\n",
    "plt.boxplot(datos)\n",
    "# Agrega etiquetas a los ejes\n",
    "plt.xlabel('Eje X')\n",
    "plt.ylabel('Eje Y')\n",
    "\n",
    "# Muestra el diagrama de caja\n",
    "plt.show()\n"
   ]
  },
  {
   "cell_type": "code",
   "execution_count": 170,
   "id": "64f47363",
   "metadata": {},
   "outputs": [
    {
     "ename": "NameError",
     "evalue": "name 'anual_TWh' is not defined",
     "output_type": "error",
     "traceback": [
      "\u001b[1;31m---------------------------------------------------------------------------\u001b[0m",
      "\u001b[1;31mNameError\u001b[0m                                 Traceback (most recent call last)",
      "Cell \u001b[1;32mIn [170], line 2\u001b[0m\n\u001b[0;32m      1\u001b[0m \u001b[38;5;66;03m# Generamos un gráfico de barras apiladas:\u001b[39;00m\n\u001b[1;32m----> 2\u001b[0m \u001b[43manual_TWh\u001b[49m\u001b[38;5;241m.\u001b[39munstack()\u001b[38;5;241m.\u001b[39mplot(kind\u001b[38;5;241m=\u001b[39m\u001b[38;5;124m\"\u001b[39m\u001b[38;5;124mbar\u001b[39m\u001b[38;5;124m\"\u001b[39m, stacked\u001b[38;5;241m=\u001b[39m\u001b[38;5;28;01mTrue\u001b[39;00m, figsize\u001b[38;5;241m=\u001b[39m(\u001b[38;5;241m10\u001b[39m, \u001b[38;5;241m6\u001b[39m))\n\u001b[0;32m      3\u001b[0m plt\u001b[38;5;241m.\u001b[39mtitle(\u001b[38;5;124m\"\u001b[39m\u001b[38;5;124mGeneración eléctrica total anual según Renovabilidad\u001b[39m\u001b[38;5;124m\"\u001b[39m)\n\u001b[0;32m      4\u001b[0m plt\u001b[38;5;241m.\u001b[39mxlabel(\u001b[38;5;124m\"\u001b[39m\u001b[38;5;124mAño\u001b[39m\u001b[38;5;124m\"\u001b[39m)\n",
      "\u001b[1;31mNameError\u001b[0m: name 'anual_TWh' is not defined"
     ]
    }
   ],
   "source": [
    "# Generamos un gráfico de barras apiladas:\n",
    "anual_TWh.unstack().plot(kind=\"bar\", stacked=True, figsize=(10, 6))\n",
    "plt.title(\"Generación eléctrica total anual según Renovabilidad\")\n",
    "plt.xlabel(\"Año\")\n",
    "plt.ylabel(\"Generación (TWh)\")\n",
    "plt.show()"
   ]
  },
  {
   "cell_type": "code",
   "execution_count": 112,
   "id": "92189d5d",
   "metadata": {},
   "outputs": [
    {
     "name": "stdout",
     "output_type": "stream",
     "text": [
      "Coeficiente de Correlación de Pearson:\n",
      "          cantidad   energia  total\n",
      "cantidad  1.000000  0.851668    NaN\n",
      "energia   0.851668  1.000000    NaN\n",
      "total          NaN       NaN    NaN\n",
      "Coeficiente de Correlación de Spearman:\n",
      "          cantidad   energia  total\n",
      "cantidad  1.000000  0.747899    NaN\n",
      "energia   0.747899  1.000000    NaN\n",
      "total          NaN       NaN    NaN\n",
      "Coeficiente de Correlación de Kendall:\n",
      "          cantidad  energia  total\n",
      "cantidad       1.0      0.6    NaN\n",
      "energia        0.6      1.0    NaN\n",
      "total          NaN      NaN    1.0\n"
     ]
    }
   ],
   "source": [
    "# Calcular el coeficiente de correlación de Pearson\n",
    "correlacion_pearson = data_agrupada[['cantidad', 'energia', 'total']].corr(method='pearson')\n",
    "\n",
    "# Calcular el coeficiente de correlación de Spearman\n",
    "correlacion_spearman = data_agrupada[['cantidad', 'energia', 'total']].corr(method='spearman')\n",
    "\n",
    "# Calcular el coeficiente de correlación de Kendall\n",
    "correlacion_kendall = data_agrupada[['cantidad', 'energia', 'total']].corr(method='kendall')\n",
    "\n",
    "print(\"Coeficiente de Correlación de Pearson:\")\n",
    "print(correlacion_pearson)\n",
    "\n",
    "print(\"Coeficiente de Correlación de Spearman:\")\n",
    "print(correlacion_spearman)\n",
    "\n",
    "print(\"Coeficiente de Correlación de Kendall:\")\n",
    "print(correlacion_kendall)\n"
   ]
  },
  {
   "cell_type": "code",
   "execution_count": 130,
   "id": "25a2593b",
   "metadata": {},
   "outputs": [
    {
     "data": {
      "text/plain": [
       "[          cantidad   energia  total\n",
       " cantidad  1.000000  0.642857    NaN\n",
       " energia   0.642857  1.000000    NaN\n",
       " total          NaN       NaN    NaN,\n",
       "           cantidad   energia  total\n",
       " cantidad  1.000000  0.642857    NaN\n",
       " energia   0.642857  1.000000    NaN\n",
       " total          NaN       NaN    NaN,\n",
       "           cantidad   energia  total\n",
       " cantidad  1.000000  0.642857    NaN\n",
       " energia   0.642857  1.000000    NaN\n",
       " total          NaN       NaN    NaN,\n",
       "           cantidad   energia  total\n",
       " cantidad  1.000000  0.642857    NaN\n",
       " energia   0.642857  1.000000    NaN\n",
       " total          NaN       NaN    NaN,\n",
       "           cantidad   energia  total\n",
       " cantidad  1.000000  0.642857    NaN\n",
       " energia   0.642857  1.000000    NaN\n",
       " total          NaN       NaN    NaN,\n",
       "           cantidad   energia  total\n",
       " cantidad  1.000000  0.642857    NaN\n",
       " energia   0.642857  1.000000    NaN\n",
       " total          NaN       NaN    NaN,\n",
       "           cantidad   energia  total\n",
       " cantidad  1.000000  0.642857    NaN\n",
       " energia   0.642857  1.000000    NaN\n",
       " total          NaN       NaN    NaN,\n",
       "           cantidad   energia  total\n",
       " cantidad  1.000000  0.642857    NaN\n",
       " energia   0.642857  1.000000    NaN\n",
       " total          NaN       NaN    NaN]"
      ]
     },
     "execution_count": 130,
     "metadata": {},
     "output_type": "execute_result"
    }
   ],
   "source": [
    "corr_spearman = []\n",
    "\n",
    "for i, fila in data_agrupada.iterrows():\n",
    "    tecno_calc = data_agrupada[['cantidad', 'energia', 'total']].corr(method='spearman')\n",
    "    corr_spearman.append(tecno_calc)\n",
    "\n",
    "# Convierte las filas calculadas en un nuevo DataFrame\n",
    "#df_spearman = pd.DataFrame(corr_spearman)\n",
    "corr_spearman"
   ]
  },
  {
   "cell_type": "code",
   "execution_count": 114,
   "id": "3863f0ba",
   "metadata": {},
   "outputs": [
    {
     "name": "stdout",
     "output_type": "stream",
     "text": [
      "  tecnologia  correlacion_spearman\n",
      "0       BIOG                   NaN\n",
      "1       BIOM                   NaN\n",
      "2        EOL                   NaN\n",
      "3         HR                   NaN\n",
      "4       MHID                   NaN\n",
      "5        SOL                   NaN\n",
      "6        TOT                   NaN\n",
      "7         TV                   NaN\n"
     ]
    },
    {
     "name": "stderr",
     "output_type": "stream",
     "text": [
      "C:\\Users\\Lenovo\\AppData\\Local\\Programs\\Python\\Python310\\lib\\site-packages\\scipy\\stats\\_stats_py.py:5445: ConstantInputWarning: An input array is constant; the correlation coefficient is not defined.\n",
      "  warnings.warn(stats.ConstantInputWarning(warn_msg))\n"
     ]
    }
   ],
   "source": [
    "# Agrupar los datos por 'tecnologia'\n",
    "grupos = data_agrupada.groupby('tecnologia')\n",
    "\n",
    "# Inicializar listas para almacenar las correlaciones de Spearman por tecnología\n",
    "tecnologias = []\n",
    "correlaciones_spearman = []\n",
    "\n",
    "# Calcular la correlación de Spearman para cada grupo (tecnología)\n",
    "for tecnologia, grupo in grupos:\n",
    "    correlacion_spearman = stats.spearmanr(grupo['energia'], grupo['total'])\n",
    "    \n",
    "    tecnologias.append(tecnologia)\n",
    "    correlaciones_spearman.append(correlacion_spearman.correlation)\n",
    "\n",
    "# Crear un DataFrame con las correlaciones de Spearman\n",
    "correlaciones_df = pd.DataFrame({'tecnologia': tecnologias, 'correlacion_spearman': correlaciones_spearman})\n",
    "\n",
    "print(correlaciones_df)\n"
   ]
  },
  {
   "cell_type": "code",
   "execution_count": 131,
   "id": "1bf61043",
   "metadata": {},
   "outputs": [
    {
     "name": "stdout",
     "output_type": "stream",
     "text": [
      "  tecnologia  correlacion_pearson\n",
      "0       BIOG                  NaN\n",
      "1       BIOM                  NaN\n",
      "2        EOL                  NaN\n",
      "3         HR                  NaN\n",
      "4       MHID                  NaN\n",
      "5        SOL                  NaN\n",
      "6        TOT                  NaN\n",
      "7         TV                  NaN\n"
     ]
    },
    {
     "name": "stderr",
     "output_type": "stream",
     "text": [
      "C:\\Users\\Lenovo\\AppData\\Local\\Programs\\Python\\Python310\\lib\\site-packages\\numpy\\lib\\function_base.py:2845: RuntimeWarning: Degrees of freedom <= 0 for slice\n",
      "  c = cov(x, y, rowvar, dtype=dtype)\n",
      "C:\\Users\\Lenovo\\AppData\\Local\\Programs\\Python\\Python310\\lib\\site-packages\\numpy\\lib\\function_base.py:2704: RuntimeWarning: divide by zero encountered in divide\n",
      "  c *= np.true_divide(1, fact)\n"
     ]
    }
   ],
   "source": [
    "# Agrupar los datos por 'tecnologia'\n",
    "grupos = data_agrupada.groupby('tecnologia')\n",
    "\n",
    "# Inicializar listas para almacenar las correlaciones de Pearson por tecnología\n",
    "tecnologias = []\n",
    "correlaciones_pearson = []\n",
    "\n",
    "# Calcular la correlación de Pearson para cada grupo (tecnología)\n",
    "for tecnologia, grupo in grupos:\n",
    "    correlacion_pearson = grupo['cantidad'].corr(grupo['total'], method='pearson')\n",
    "    \n",
    "    tecnologias.append(tecnologia)\n",
    "    correlaciones_pearson.append(correlacion_pearson)\n",
    "\n",
    "# Crear un DataFrame con las correlaciones de Pearson\n",
    "correlaciones_df = pd.DataFrame({'tecnologia': tecnologias, 'correlacion_pearson': correlaciones_pearson})\n",
    "\n",
    "print(correlaciones_df)\n"
   ]
  },
  {
   "cell_type": "code",
   "execution_count": 116,
   "id": "8528f347",
   "metadata": {},
   "outputs": [
    {
     "name": "stdout",
     "output_type": "stream",
     "text": [
      "  tecnologia  correlacion_kendall\n",
      "0       BIOG                  NaN\n",
      "1       BIOM                  NaN\n",
      "2        EOL                  NaN\n",
      "3         HR                  NaN\n",
      "4       MHID                  NaN\n",
      "5        SOL                  NaN\n",
      "6        TOT                  NaN\n",
      "7         TV                  NaN\n"
     ]
    }
   ],
   "source": [
    "# Agrupar los datos por 'tecnología'\n",
    "grupos = data_agrupada.groupby('tecnologia')\n",
    "\n",
    "# Inicializar listas para almacenar las correlaciones de Kendall por tecnología\n",
    "tecnologias = []\n",
    "correlaciones_kendall = []\n",
    "\n",
    "# Calcular la correlación de Kendall para cada grupo (tecnología)\n",
    "for tecnologia, grupo in grupos:\n",
    "    correlacion_kendall, _ = kendalltau(grupo['cantidad'], grupo['total'])\n",
    "    \n",
    "    tecnologias.append(tecnologia)\n",
    "    correlaciones_kendall.append(correlacion_kendall)\n",
    "\n",
    "# Crear un DataFrame con las correlaciones de Kendall\n",
    "correlaciones_df = pd.DataFrame({'tecnologia': tecnologias, 'correlacion_kendall': correlaciones_kendall})\n",
    "\n",
    "print(correlaciones_df)\n"
   ]
  },
  {
   "cell_type": "code",
   "execution_count": 133,
   "id": "7033dd5d",
   "metadata": {},
   "outputs": [],
   "source": [
    "# 'X' variables predictoras (características) y 'y' variable objetivo.\n",
    "\n",
    "# Divide los datos en conjuntos de entrenamiento y prueba (80% de entrenamiento y 20% de prueba)\n",
    "X_train, X_test, y_train, y_test = train_test_split(df[['anio', 'mes', 'tipo_maquina', 'tecnologia']], df['generacion_neta_MWh'], test_size=0.2, random_state=42)\n",
    "\n",
    "# X_train y y_train datos de entrenamiento, y X_test y y_test datos de prueba.\n"
   ]
  },
  {
   "cell_type": "code",
   "execution_count": 134,
   "id": "607cb210",
   "metadata": {},
   "outputs": [],
   "source": [
    "from sklearn.model_selection import train_test_split\n",
    "\n",
    "# Supongamos que tienes un DataFrame llamado 'data' con las características (X) y las etiquetas (y)\n",
    "X = data_agrupada[['cantidad', 'energia']]\n",
    "y = data_agrupada['total']\n",
    "\n",
    "# Dividir los datos en conjuntos de entrenamiento y prueba (por ejemplo, 80% entrenamiento y 20% prueba)\n",
    "X_train, X_test, y_train, y_test = train_test_split(X, y, test_size=0.2, random_state=42)\n",
    "\n",
    "# X_train y y_train son los datos de entrenamiento\n",
    "# X_test y y_test son los datos de prueba\n"
   ]
  },
  {
   "cell_type": "code",
   "execution_count": 156,
   "id": "ee253305",
   "metadata": {},
   "outputs": [
    {
     "name": "stdout",
     "output_type": "stream",
     "text": [
      "Coeficiente de determinación (R^2): 0.0\n"
     ]
    }
   ],
   "source": [
    "# Crear un modelo de regresión lineal\n",
    "modelo = LinearRegression()\n",
    "\n",
    "# Entrenar el modelo en los datos de entrenamiento\n",
    "modelo.fit(X_train, y_train)\n",
    "\n",
    "# Realizar predicciones en los datos de prueba\n",
    "y_pred = modelo.predict(X_test)\n",
    "\n",
    "# Calcular el coeficiente de determinación (R^2)\n",
    "r2 = r2_score(y_test, y_pred)\n",
    "\n",
    "# Imprimir el valor de R^2\n",
    "print(\"Coeficiente de determinación (R^2):\", r2)\n"
   ]
  },
  {
   "cell_type": "code",
   "execution_count": null,
   "id": "0f852ec3",
   "metadata": {},
   "outputs": [],
   "source": []
  }
 ],
 "metadata": {
  "kernelspec": {
   "display_name": "Python 3 (ipykernel)",
   "language": "python",
   "name": "python3"
  },
  "language_info": {
   "codemirror_mode": {
    "name": "ipython",
    "version": 3
   },
   "file_extension": ".py",
   "mimetype": "text/x-python",
   "name": "python",
   "nbconvert_exporter": "python",
   "pygments_lexer": "ipython3",
   "version": "3.10.4"
  }
 },
 "nbformat": 4,
 "nbformat_minor": 5
}
